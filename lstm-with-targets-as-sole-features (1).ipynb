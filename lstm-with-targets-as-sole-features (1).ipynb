{
 "cells": [
  {
   "cell_type": "code",
   "execution_count": 1,
   "id": "9a88c9c6",
   "metadata": {
    "execution": {
     "iopub.execute_input": "2023-12-17T17:36:19.406914Z",
     "iopub.status.busy": "2023-12-17T17:36:19.405957Z",
     "iopub.status.idle": "2023-12-17T17:36:33.740467Z",
     "shell.execute_reply": "2023-12-17T17:36:33.739683Z"
    },
    "papermill": {
     "duration": 14.355011,
     "end_time": "2023-12-17T17:36:33.742943",
     "exception": false,
     "start_time": "2023-12-17T17:36:19.387932",
     "status": "completed"
    },
    "tags": []
   },
   "outputs": [
    {
     "name": "stderr",
     "output_type": "stream",
     "text": [
      "/opt/conda/lib/python3.10/site-packages/scipy/__init__.py:146: UserWarning: A NumPy version >=1.16.5 and <1.23.0 is required for this version of SciPy (detected version 1.24.3\n",
      "  warnings.warn(f\"A NumPy version >={np_minversion} and <{np_maxversion}\"\n"
     ]
    }
   ],
   "source": [
    "import os\n",
    "from os import system, getpid, walk\n",
    "import pandas as pd\n",
    "import numpy as np\n",
    "import matplotlib.pyplot as plt\n",
    "import tensorflow as tf\n",
    "import random as python_random\n",
    "import gc\n",
    "from psutil import Process;\n",
    "import joblib\n",
    "from joblib import Parallel, delayed\n",
    "\n",
    "from keras import Sequential\n",
    "from keras.callbacks import EarlyStopping, ModelCheckpoint\n",
    "from keras.layers import Input, Dense, LSTM, Dropout\n",
    "from tensorflow.keras import mixed_precision # for support mixed precision training\n",
    "from sklearn.metrics import mean_absolute_error, mean_squared_error\n",
    "from sklearn.preprocessing import StandardScaler"
   ]
  },
  {
   "cell_type": "code",
   "execution_count": 2,
   "id": "6c1b278a",
   "metadata": {
    "execution": {
     "iopub.execute_input": "2023-12-17T17:36:33.776319Z",
     "iopub.status.busy": "2023-12-17T17:36:33.775779Z",
     "iopub.status.idle": "2023-12-17T17:36:33.780143Z",
     "shell.execute_reply": "2023-12-17T17:36:33.779234Z"
    },
    "papermill": {
     "duration": 0.022951,
     "end_time": "2023-12-17T17:36:33.782086",
     "exception": false,
     "start_time": "2023-12-17T17:36:33.759135",
     "status": "completed"
    },
    "tags": []
   },
   "outputs": [],
   "source": [
    "trainPath= \"/kaggle/input/optiver-trading-at-the-close/train.csv\""
   ]
  },
  {
   "cell_type": "code",
   "execution_count": 3,
   "id": "9d5ecced",
   "metadata": {
    "execution": {
     "iopub.execute_input": "2023-12-17T17:36:33.814374Z",
     "iopub.status.busy": "2023-12-17T17:36:33.814125Z",
     "iopub.status.idle": "2023-12-17T17:36:33.817785Z",
     "shell.execute_reply": "2023-12-17T17:36:33.817023Z"
    },
    "papermill": {
     "duration": 0.021987,
     "end_time": "2023-12-17T17:36:33.819735",
     "exception": false,
     "start_time": "2023-12-17T17:36:33.797748",
     "status": "completed"
    },
    "tags": []
   },
   "outputs": [],
   "source": [
    "mixedPrecisionEnable = True"
   ]
  },
  {
   "cell_type": "code",
   "execution_count": 4,
   "id": "37576833",
   "metadata": {
    "execution": {
     "iopub.execute_input": "2023-12-17T17:36:33.852326Z",
     "iopub.status.busy": "2023-12-17T17:36:33.852083Z",
     "iopub.status.idle": "2023-12-17T17:36:33.856909Z",
     "shell.execute_reply": "2023-12-17T17:36:33.856105Z"
    },
    "papermill": {
     "duration": 0.023604,
     "end_time": "2023-12-17T17:36:33.858763",
     "exception": false,
     "start_time": "2023-12-17T17:36:33.835159",
     "status": "completed"
    },
    "tags": []
   },
   "outputs": [],
   "source": [
    "def checkMemory():\n",
    "    \"\"\"\n",
    "    This function defines the memory usage across the kernel. \n",
    "    Source-\n",
    "    https://stackoverflow.com/questions/61366458/how-to-find-memory-usage-of-kaggle-notebook\n",
    "    \"\"\";\n",
    "    pid = getpid();\n",
    "    py = Process(pid);\n",
    "    memory_use = py.memory_info()[0] / 2. ** 30;\n",
    "    return f\"RAM memory GB usage = {memory_use :.4}\";"
   ]
  },
  {
   "cell_type": "markdown",
   "id": "b8225645",
   "metadata": {
    "papermill": {
     "duration": 0.01549,
     "end_time": "2023-12-17T17:36:33.890340",
     "exception": false,
     "start_time": "2023-12-17T17:36:33.874850",
     "status": "completed"
    },
    "tags": []
   },
   "source": [
    "# For GPU Only"
   ]
  },
  {
   "cell_type": "code",
   "execution_count": 5,
   "id": "3724cac6",
   "metadata": {
    "execution": {
     "iopub.execute_input": "2023-12-17T17:36:33.923291Z",
     "iopub.status.busy": "2023-12-17T17:36:33.922824Z",
     "iopub.status.idle": "2023-12-17T17:36:34.979113Z",
     "shell.execute_reply": "2023-12-17T17:36:34.977907Z"
    },
    "papermill": {
     "duration": 1.075329,
     "end_time": "2023-12-17T17:36:34.981451",
     "exception": false,
     "start_time": "2023-12-17T17:36:33.906122",
     "status": "completed"
    },
    "tags": []
   },
   "outputs": [
    {
     "name": "stdout",
     "output_type": "stream",
     "text": [
      "Sun Dec 17 17:36:34 2023       \r\n",
      "+-----------------------------------------------------------------------------+\r\n",
      "| NVIDIA-SMI 470.161.03   Driver Version: 470.161.03   CUDA Version: 11.4     |\r\n",
      "|-------------------------------+----------------------+----------------------+\r\n",
      "| GPU  Name        Persistence-M| Bus-Id        Disp.A | Volatile Uncorr. ECC |\r\n",
      "| Fan  Temp  Perf  Pwr:Usage/Cap|         Memory-Usage | GPU-Util  Compute M. |\r\n",
      "|                               |                      |               MIG M. |\r\n",
      "|===============================+======================+======================|\r\n",
      "|   0  Tesla T4            Off  | 00000000:00:04.0 Off |                    0 |\r\n",
      "| N/A   42C    P8    10W /  70W |      0MiB / 15109MiB |      0%      Default |\r\n",
      "|                               |                      |                  N/A |\r\n",
      "+-------------------------------+----------------------+----------------------+\r\n",
      "|   1  Tesla T4            Off  | 00000000:00:05.0 Off |                    0 |\r\n",
      "| N/A   43C    P8     9W /  70W |      0MiB / 15109MiB |      0%      Default |\r\n",
      "|                               |                      |                  N/A |\r\n",
      "+-------------------------------+----------------------+----------------------+\r\n",
      "                                                                               \r\n",
      "+-----------------------------------------------------------------------------+\r\n",
      "| Processes:                                                                  |\r\n",
      "|  GPU   GI   CI        PID   Type   Process name                  GPU Memory |\r\n",
      "|        ID   ID                                                   Usage      |\r\n",
      "|=============================================================================|\r\n",
      "|  No running processes found                                                 |\r\n",
      "+-----------------------------------------------------------------------------+\r\n"
     ]
    }
   ],
   "source": [
    "!nvidia-smi"
   ]
  },
  {
   "cell_type": "markdown",
   "id": "809e0e12",
   "metadata": {
    "papermill": {
     "duration": 0.015841,
     "end_time": "2023-12-17T17:36:35.013582",
     "exception": false,
     "start_time": "2023-12-17T17:36:34.997741",
     "status": "completed"
    },
    "tags": []
   },
   "source": [
    "## Defining a Distribution Strategy for Tensorflow Only (Multiple GPU Acceleration)\n",
    "\n",
    "To use Multi GPU (or multi machine, multi TPU) you will use the `tf.distribute.Strategy` API, \n",
    "more specifically `tf.distribute.MirroredStrategy`\n",
    "\n",
    "This strategy will do the spliting of the work between both T4s for you\n",
    "\n",
    "***Note***: You will need the context manager created here below when building the dataset and your model"
   ]
  },
  {
   "cell_type": "code",
   "execution_count": 6,
   "id": "10a2601a",
   "metadata": {
    "execution": {
     "iopub.execute_input": "2023-12-17T17:36:35.046736Z",
     "iopub.status.busy": "2023-12-17T17:36:35.046413Z",
     "iopub.status.idle": "2023-12-17T17:36:39.386170Z",
     "shell.execute_reply": "2023-12-17T17:36:39.385058Z"
    },
    "papermill": {
     "duration": 4.358824,
     "end_time": "2023-12-17T17:36:39.388351",
     "exception": false,
     "start_time": "2023-12-17T17:36:35.029527",
     "status": "completed"
    },
    "tags": []
   },
   "outputs": [
    {
     "name": "stdout",
     "output_type": "stream",
     "text": [
      "Number of GPU devices: 2\n"
     ]
    }
   ],
   "source": [
    "strategy = tf.distribute.MirroredStrategy()\n",
    "print('Number of GPU devices: {}'.format(strategy.num_replicas_in_sync))"
   ]
  },
  {
   "cell_type": "markdown",
   "id": "90c9c681",
   "metadata": {
    "papermill": {
     "duration": 0.016026,
     "end_time": "2023-12-17T17:36:39.420586",
     "exception": false,
     "start_time": "2023-12-17T17:36:39.404560",
     "status": "completed"
    },
    "tags": []
   },
   "source": [
    "# Mixed precision Training for T4 (faster training time and less memory, especail for larger model with high  N_LAGS window)\n",
    "## Offical Link :  <https://keras.io/api/mixed_precision/>   <https://www.tensorflow.org/api_docs/python/tf/keras/mixed_precision/Policy>"
   ]
  },
  {
   "cell_type": "code",
   "execution_count": 7,
   "id": "fda4b0b7",
   "metadata": {
    "execution": {
     "iopub.execute_input": "2023-12-17T17:36:39.454930Z",
     "iopub.status.busy": "2023-12-17T17:36:39.454039Z",
     "iopub.status.idle": "2023-12-17T17:36:39.460474Z",
     "shell.execute_reply": "2023-12-17T17:36:39.459558Z"
    },
    "papermill": {
     "duration": 0.026057,
     "end_time": "2023-12-17T17:36:39.462490",
     "exception": false,
     "start_time": "2023-12-17T17:36:39.436433",
     "status": "completed"
    },
    "tags": []
   },
   "outputs": [],
   "source": [
    "if mixedPrecisionEnable == True:\n",
    "    policy = mixed_precision.Policy('mixed_float16')\n",
    "    mixed_precision.set_global_policy(policy)"
   ]
  },
  {
   "cell_type": "code",
   "execution_count": 8,
   "id": "10c08fd2",
   "metadata": {
    "execution": {
     "iopub.execute_input": "2023-12-17T17:36:39.538047Z",
     "iopub.status.busy": "2023-12-17T17:36:39.537206Z",
     "iopub.status.idle": "2023-12-17T17:36:39.542616Z",
     "shell.execute_reply": "2023-12-17T17:36:39.541679Z"
    },
    "papermill": {
     "duration": 0.065329,
     "end_time": "2023-12-17T17:36:39.544609",
     "exception": false,
     "start_time": "2023-12-17T17:36:39.479280",
     "status": "completed"
    },
    "tags": []
   },
   "outputs": [
    {
     "name": "stdout",
     "output_type": "stream",
     "text": [
      "Compute dtype: float16\n",
      "Variable dtype: float32\n"
     ]
    }
   ],
   "source": [
    "if mixedPrecisionEnable == True:\n",
    "    print('Compute dtype: %s' % policy.compute_dtype)\n",
    "    print('Variable dtype: %s' % policy.variable_dtype)"
   ]
  },
  {
   "cell_type": "code",
   "execution_count": 9,
   "id": "1c491451",
   "metadata": {
    "execution": {
     "iopub.execute_input": "2023-12-17T17:36:39.578828Z",
     "iopub.status.busy": "2023-12-17T17:36:39.578307Z",
     "iopub.status.idle": "2023-12-17T17:36:39.583041Z",
     "shell.execute_reply": "2023-12-17T17:36:39.582230Z"
    },
    "papermill": {
     "duration": 0.023756,
     "end_time": "2023-12-17T17:36:39.584918",
     "exception": false,
     "start_time": "2023-12-17T17:36:39.561162",
     "status": "completed"
    },
    "tags": []
   },
   "outputs": [],
   "source": [
    "### View Model Policy (mixed precision)\n",
    "def modelPolicy(model):\n",
    "    # Iterate over each layer in the model\n",
    "    for layer in model.layers:\n",
    "        # Print the name of the layer followed by its dtype policy\n",
    "        print(f\"{layer.name:20} {layer.dtype_policy}\")"
   ]
  },
  {
   "cell_type": "code",
   "execution_count": 10,
   "id": "7e8d3ce7",
   "metadata": {
    "execution": {
     "iopub.execute_input": "2023-12-17T17:36:39.617689Z",
     "iopub.status.busy": "2023-12-17T17:36:39.617444Z",
     "iopub.status.idle": "2023-12-17T17:36:39.623324Z",
     "shell.execute_reply": "2023-12-17T17:36:39.622456Z"
    },
    "papermill": {
     "duration": 0.024352,
     "end_time": "2023-12-17T17:36:39.625243",
     "exception": false,
     "start_time": "2023-12-17T17:36:39.600891",
     "status": "completed"
    },
    "tags": []
   },
   "outputs": [],
   "source": [
    "SEED = 42\n",
    "\n",
    "N_LAGS =    20#12#6#3 #30 #4#20#55#10 #4 # 2 # define window size(N_Lags + 1)\n",
    "\n",
    "BATCH_SIZE =   32 #64\n",
    "BUFFER_SIZE = 100000 # for shuff function \n",
    "EPOCHS =   300 # 1000 #500\n",
    "PATIENCE =  10#5\n",
    "DROPOUT = 0.5#0.4#0.8#0.5\n",
    "LEARNING_RATE = 1e-4\n",
    "\n",
    "SPLIT_DAY = 390 #set split day \n",
    "\n",
    "# STUDY_PERIOD_DAYS = 200 # for evaluation only\n",
    "# TRAINING_DAYS = 150    # for evaluaton only\n",
    "# TESTING_DAYS = 50      # for evalution only\n",
    "\n",
    "N_STOCKS = 200  # define the maximum stock id \n",
    "N_DATES = 481 # define the maximum stock dates\n",
    "N_SECONDS = 55  # define the maximum seconds 0- 540 second for each day\n",
    "\n",
    "\n",
    "RUN_TRAINING = True\n",
    "RUN_FOR_SUBMISSION = True"
   ]
  },
  {
   "cell_type": "code",
   "execution_count": 11,
   "id": "5f66e76b",
   "metadata": {
    "execution": {
     "iopub.execute_input": "2023-12-17T17:36:39.658002Z",
     "iopub.status.busy": "2023-12-17T17:36:39.657717Z",
     "iopub.status.idle": "2023-12-17T17:36:39.662372Z",
     "shell.execute_reply": "2023-12-17T17:36:39.661535Z"
    },
    "papermill": {
     "duration": 0.023163,
     "end_time": "2023-12-17T17:36:39.664300",
     "exception": false,
     "start_time": "2023-12-17T17:36:39.641137",
     "status": "completed"
    },
    "tags": []
   },
   "outputs": [],
   "source": [
    "os.environ['PYTHONHASHSEED'] = str(SEED)\n",
    "tf.keras.utils.set_random_seed(SEED)"
   ]
  },
  {
   "cell_type": "code",
   "execution_count": 12,
   "id": "a3d66a47",
   "metadata": {
    "execution": {
     "iopub.execute_input": "2023-12-17T17:36:39.698185Z",
     "iopub.status.busy": "2023-12-17T17:36:39.697905Z",
     "iopub.status.idle": "2023-12-17T17:36:47.994637Z",
     "shell.execute_reply": "2023-12-17T17:36:47.993346Z"
    },
    "papermill": {
     "duration": 8.315749,
     "end_time": "2023-12-17T17:36:47.996810",
     "exception": false,
     "start_time": "2023-12-17T17:36:39.681061",
     "status": "completed"
    },
    "tags": []
   },
   "outputs": [
    {
     "name": "stdout",
     "output_type": "stream",
     "text": [
      "CPU times: user 8.93 s, sys: 3.27 s, total: 12.2 s\n",
      "Wall time: 8.29 s\n"
     ]
    },
    {
     "data": {
      "text/plain": [
       "(5237980, 4)"
      ]
     },
     "execution_count": 12,
     "metadata": {},
     "output_type": "execute_result"
    }
   ],
   "source": [
    "%%time\n",
    "# df = pd.read_csv(\"/kaggle/input/optiver-trading-at-the-close/train.csv\")\n",
    "df = pd.read_csv(trainPath, engine=\"pyarrow\") # use Multiple thread reading CSV file\n",
    "df = df[[\"stock_id\", \"date_id\", \"seconds_in_bucket\", \"target\"]]\n",
    "df.shape"
   ]
  },
  {
   "cell_type": "code",
   "execution_count": 13,
   "id": "8274cb18",
   "metadata": {
    "execution": {
     "iopub.execute_input": "2023-12-17T17:36:48.031034Z",
     "iopub.status.busy": "2023-12-17T17:36:48.030716Z",
     "iopub.status.idle": "2023-12-17T17:36:48.171767Z",
     "shell.execute_reply": "2023-12-17T17:36:48.170797Z"
    },
    "papermill": {
     "duration": 0.160926,
     "end_time": "2023-12-17T17:36:48.174223",
     "exception": false,
     "start_time": "2023-12-17T17:36:48.013297",
     "status": "completed"
    },
    "tags": []
   },
   "outputs": [
    {
     "name": "stdout",
     "output_type": "stream",
     "text": [
      "Memory usage of dataframe is 159.85 MB\n",
      "Memory usage after optimization is: 49.95 MB\n",
      "Decreased by 68.75%\n"
     ]
    }
   ],
   "source": [
    "def reduce_mem_usage(df, verbose=0):\n",
    "    start_mem = df.memory_usage().sum() / 1024**2\n",
    "\n",
    "    for col in df.columns:\n",
    "        col_type = df[col].dtype\n",
    "\n",
    "        if col_type != object:\n",
    "            c_min = df[col].min()\n",
    "            c_max = df[col].max()\n",
    "            if str(col_type)[:3] == \"int\":\n",
    "                if c_min > np.iinfo(np.int8).min and c_max < np.iinfo(np.int8).max:\n",
    "                    df[col] = df[col].astype(np.int8)\n",
    "                elif c_min > np.iinfo(np.int16).min and c_max < np.iinfo(np.int16).max:\n",
    "                    df[col] = df[col].astype(np.int16)\n",
    "                elif c_min > np.iinfo(np.int32).min and c_max < np.iinfo(np.int32).max:\n",
    "                    df[col] = df[col].astype(np.int32)\n",
    "                elif c_min > np.iinfo(np.int64).min and c_max < np.iinfo(np.int64).max:\n",
    "                    df[col] = df[col].astype(np.int64)\n",
    "            else:\n",
    "                if c_min > np.finfo(np.float16).min and c_max < np.finfo(np.float16).max:\n",
    "                    df[col] = df[col].astype(np.float32)\n",
    "                elif c_min > np.finfo(np.float32).min and c_max < np.finfo(np.float32).max:\n",
    "                    df[col] = df[col].astype(np.float32)\n",
    "                else:\n",
    "                    df[col] = df[col].astype(np.float32)\n",
    "\n",
    "    if verbose:\n",
    "        print(f\"Memory usage of dataframe is {start_mem:.2f} MB\")\n",
    "        end_mem = df.memory_usage().sum() / 1024**2\n",
    "        print(f\"Memory usage after optimization is: {end_mem:.2f} MB\")\n",
    "        decrease = 100 * (start_mem - end_mem) / start_mem\n",
    "        print(f\"Decreased by {decrease:.2f}%\")\n",
    "\n",
    "    return df\n",
    "\n",
    "df = reduce_mem_usage(df, verbose=1)"
   ]
  },
  {
   "cell_type": "markdown",
   "id": "bee88ae4",
   "metadata": {
    "papermill": {
     "duration": 0.018813,
     "end_time": "2023-12-17T17:36:48.210056",
     "exception": false,
     "start_time": "2023-12-17T17:36:48.191243",
     "status": "completed"
    },
    "tags": []
   },
   "source": [
    "# Estimate Function for how much calculation power requirement in FLOPS (For Tensorflow Model) : Avoid use this function force down to Tensorflow v1.x, create a lot of bug during training"
   ]
  },
  {
   "cell_type": "code",
   "execution_count": 14,
   "id": "3dbbfea5",
   "metadata": {
    "execution": {
     "iopub.execute_input": "2023-12-17T17:36:48.245156Z",
     "iopub.status.busy": "2023-12-17T17:36:48.244821Z",
     "iopub.status.idle": "2023-12-17T17:36:48.249149Z",
     "shell.execute_reply": "2023-12-17T17:36:48.248306Z"
    },
    "papermill": {
     "duration": 0.023866,
     "end_time": "2023-12-17T17:36:48.250999",
     "exception": false,
     "start_time": "2023-12-17T17:36:48.227133",
     "status": "completed"
    },
    "tags": []
   },
   "outputs": [],
   "source": [
    "# def get_flops_model(model):\n",
    "#     tf.compat.v1.disable_eager_execution()\n",
    "#     session = tf.compat.v1.Session()\n",
    "#     graph = tf.compat.v1.get_default_graph()\n",
    "        \n",
    "    \n",
    "#     with graph.as_default():\n",
    "#         with session.as_default():\n",
    "#             model = model\n",
    "\n",
    "#             run_meta = tf.compat.v1.RunMetadata()\n",
    "#             opts = tf.compat.v1.profiler.ProfileOptionBuilder.float_operation()\n",
    "        \n",
    "#             # We use the Keras session graph in the call to the profiler.\n",
    "#             flops = tf.compat.v1.profiler.profile(graph=graph,\n",
    "#                                                   run_meta=run_meta, cmd='op', options=opts)\n",
    "            \n",
    "        \n",
    "#             return flops.total_float_ops /1e9"
   ]
  },
  {
   "cell_type": "code",
   "execution_count": 15,
   "id": "c659574e",
   "metadata": {
    "execution": {
     "iopub.execute_input": "2023-12-17T17:36:48.287529Z",
     "iopub.status.busy": "2023-12-17T17:36:48.287282Z",
     "iopub.status.idle": "2023-12-17T17:36:48.293150Z",
     "shell.execute_reply": "2023-12-17T17:36:48.292355Z"
    },
    "papermill": {
     "duration": 0.025394,
     "end_time": "2023-12-17T17:36:48.295256",
     "exception": false,
     "start_time": "2023-12-17T17:36:48.269862",
     "status": "completed"
    },
    "tags": []
   },
   "outputs": [
    {
     "data": {
      "text/plain": [
       "'RAM memory GB usage = 3.525'"
      ]
     },
     "execution_count": 15,
     "metadata": {},
     "output_type": "execute_result"
    }
   ],
   "source": [
    " checkMemory()"
   ]
  },
  {
   "cell_type": "markdown",
   "id": "be806163",
   "metadata": {
    "papermill": {
     "duration": 0.016177,
     "end_time": "2023-12-17T17:36:48.329850",
     "exception": false,
     "start_time": "2023-12-17T17:36:48.313673",
     "status": "completed"
    },
    "tags": []
   },
   "source": [
    "The following step is to create a DataFrame that includes all possible combinations of stock IDs, date IDs, and time intervals (in seconds). This ensures that the DataFrame contains a complete set of data across the specified ranges and intervals, with any missing data points filled with zeros."
   ]
  },
  {
   "cell_type": "code",
   "execution_count": 16,
   "id": "27ee2ea5",
   "metadata": {
    "execution": {
     "iopub.execute_input": "2023-12-17T17:36:48.364344Z",
     "iopub.status.busy": "2023-12-17T17:36:48.363835Z",
     "iopub.status.idle": "2023-12-17T17:36:49.984742Z",
     "shell.execute_reply": "2023-12-17T17:36:49.983917Z"
    },
    "papermill": {
     "duration": 1.640536,
     "end_time": "2023-12-17T17:36:49.986820",
     "exception": false,
     "start_time": "2023-12-17T17:36:48.346284",
     "status": "completed"
    },
    "tags": []
   },
   "outputs": [
    {
     "data": {
      "text/html": [
       "<div>\n",
       "<style scoped>\n",
       "    .dataframe tbody tr th:only-of-type {\n",
       "        vertical-align: middle;\n",
       "    }\n",
       "\n",
       "    .dataframe tbody tr th {\n",
       "        vertical-align: top;\n",
       "    }\n",
       "\n",
       "    .dataframe thead th {\n",
       "        text-align: right;\n",
       "    }\n",
       "</style>\n",
       "<table border=\"1\" class=\"dataframe\">\n",
       "  <thead>\n",
       "    <tr style=\"text-align: right;\">\n",
       "      <th></th>\n",
       "      <th>stock_id</th>\n",
       "      <th>date_id</th>\n",
       "      <th>seconds_in_bucket</th>\n",
       "      <th>target</th>\n",
       "    </tr>\n",
       "  </thead>\n",
       "  <tbody>\n",
       "    <tr>\n",
       "      <th>0</th>\n",
       "      <td>0</td>\n",
       "      <td>0</td>\n",
       "      <td>0</td>\n",
       "      <td>-3.029704</td>\n",
       "    </tr>\n",
       "    <tr>\n",
       "      <th>1</th>\n",
       "      <td>0</td>\n",
       "      <td>0</td>\n",
       "      <td>10</td>\n",
       "      <td>0.389814</td>\n",
       "    </tr>\n",
       "    <tr>\n",
       "      <th>2</th>\n",
       "      <td>0</td>\n",
       "      <td>0</td>\n",
       "      <td>20</td>\n",
       "      <td>4.220009</td>\n",
       "    </tr>\n",
       "    <tr>\n",
       "      <th>3</th>\n",
       "      <td>0</td>\n",
       "      <td>0</td>\n",
       "      <td>30</td>\n",
       "      <td>5.450249</td>\n",
       "    </tr>\n",
       "    <tr>\n",
       "      <th>4</th>\n",
       "      <td>0</td>\n",
       "      <td>0</td>\n",
       "      <td>40</td>\n",
       "      <td>3.169775</td>\n",
       "    </tr>\n",
       "    <tr>\n",
       "      <th>...</th>\n",
       "      <td>...</td>\n",
       "      <td>...</td>\n",
       "      <td>...</td>\n",
       "      <td>...</td>\n",
       "    </tr>\n",
       "    <tr>\n",
       "      <th>5290995</th>\n",
       "      <td>199</td>\n",
       "      <td>480</td>\n",
       "      <td>500</td>\n",
       "      <td>-7.209778</td>\n",
       "    </tr>\n",
       "    <tr>\n",
       "      <th>5290996</th>\n",
       "      <td>199</td>\n",
       "      <td>480</td>\n",
       "      <td>510</td>\n",
       "      <td>-9.750128</td>\n",
       "    </tr>\n",
       "    <tr>\n",
       "      <th>5290997</th>\n",
       "      <td>199</td>\n",
       "      <td>480</td>\n",
       "      <td>520</td>\n",
       "      <td>3.629923</td>\n",
       "    </tr>\n",
       "    <tr>\n",
       "      <th>5290998</th>\n",
       "      <td>199</td>\n",
       "      <td>480</td>\n",
       "      <td>530</td>\n",
       "      <td>4.760027</td>\n",
       "    </tr>\n",
       "    <tr>\n",
       "      <th>5290999</th>\n",
       "      <td>199</td>\n",
       "      <td>480</td>\n",
       "      <td>540</td>\n",
       "      <td>-6.530285</td>\n",
       "    </tr>\n",
       "  </tbody>\n",
       "</table>\n",
       "<p>5291000 rows × 4 columns</p>\n",
       "</div>"
      ],
      "text/plain": [
       "         stock_id  date_id  seconds_in_bucket    target\n",
       "0               0        0                  0 -3.029704\n",
       "1               0        0                 10  0.389814\n",
       "2               0        0                 20  4.220009\n",
       "3               0        0                 30  5.450249\n",
       "4               0        0                 40  3.169775\n",
       "...           ...      ...                ...       ...\n",
       "5290995       199      480                500 -7.209778\n",
       "5290996       199      480                510 -9.750128\n",
       "5290997       199      480                520  3.629923\n",
       "5290998       199      480                530  4.760027\n",
       "5290999       199      480                540 -6.530285\n",
       "\n",
       "[5291000 rows x 4 columns]"
      ]
     },
     "execution_count": 16,
     "metadata": {},
     "output_type": "execute_result"
    }
   ],
   "source": [
    "all_stock_ids = range(N_STOCKS)\n",
    "all_date_ids = range(N_DATES) \n",
    "all_seconds = [i * 10 for i in range(N_SECONDS)]\n",
    "\n",
    "#Re-index full dataframe \n",
    "multi_index = pd.MultiIndex.from_product([all_stock_ids, all_date_ids, all_seconds], \n",
    "                                         names=['stock_id', 'date_id', 'seconds_in_bucket'])\n",
    "df_full = df.set_index(['stock_id', 'date_id', 'seconds_in_bucket']).reindex(multi_index)\n",
    "df_full = df_full.fillna(0) # fill NA (miss value) into 0 \n",
    "df_full = df_full.reset_index()\n",
    "assert(df_full.shape[0] == N_STOCKS * N_DATES * N_SECONDS)\n",
    "df_full\n"
   ]
  },
  {
   "cell_type": "code",
   "execution_count": 17,
   "id": "833ec13f",
   "metadata": {
    "execution": {
     "iopub.execute_input": "2023-12-17T17:36:50.022134Z",
     "iopub.status.busy": "2023-12-17T17:36:50.021836Z",
     "iopub.status.idle": "2023-12-17T17:36:50.229741Z",
     "shell.execute_reply": "2023-12-17T17:36:50.228903Z"
    },
    "papermill": {
     "duration": 0.227612,
     "end_time": "2023-12-17T17:36:50.231765",
     "exception": false,
     "start_time": "2023-12-17T17:36:50.004153",
     "status": "completed"
    },
    "tags": []
   },
   "outputs": [
    {
     "data": {
      "text/plain": [
       "53"
      ]
     },
     "execution_count": 17,
     "metadata": {},
     "output_type": "execute_result"
    }
   ],
   "source": [
    "gc.collect()"
   ]
  },
  {
   "cell_type": "markdown",
   "id": "79c16307",
   "metadata": {
    "papermill": {
     "duration": 0.017138,
     "end_time": "2023-12-17T17:36:50.266365",
     "exception": false,
     "start_time": "2023-12-17T17:36:50.249227",
     "status": "completed"
    },
    "tags": []
   },
   "source": [
    "## Feature understanding\n",
    "**stock_id**: A unique identifier for the stock. Not all stock IDs exist in every time bucket.\n",
    "\n",
    "**date_id**: A unique identifier for the date. Date IDs are sequential & consistent across all stocks.\n",
    "\n",
    "**imbalance_size**: The amount unmatched at the current reference price (in USD).\n",
    "\n",
    "**imbalance_buy_sell_flag**: An indicator reflecting the direction of auction imbalance.\n",
    "\n",
    "- buy-side imbalance: 1\n",
    "- sell-side imbalance; -1\n",
    "- no imbalance; 0\n",
    "\n",
    "**reference_price**: The price at which paired shares are maximized, the imbalance is minimized and the distance from the bid-ask midpoint is minimized, in that order. Can also be thought of as being equal to the near price bounded between the best bid and ask price.\n",
    "\n",
    "**matched_size**: The amount that can be matched at the current reference price (in USD).\n",
    "\n",
    "**far_price**: The crossing price that will maximize the number of shares matched based on auction interest only. This calculation excludes continuous market orders.\n",
    "\n",
    "**near_price**: The crossing price that will maximize the number of shares matched based auction and continuous market orders.\n",
    "\n",
    "**[bid/ask]_price**: Price of the most competitive buy/sell level in the non-auction book.\n",
    "\n",
    "**[bid/ask]_size**: The dollar notional amount on the most competitive buy/sell level in the non-auction book.\n",
    "\n",
    "**wap:** The weighted average price in the non-auction book\n",
    "\n",
    "$\\frac{BidPrice*AskSize+AskPrice*BidSize}{BidSize+AskSize}$.\n",
    "\n",
    "\n",
    "**seconds_in_bucket**: The number of seconds elapsed since the beginning of the day's closing auction, always starting from 0.\n",
    "\n",
    "**target**: The 60 second future move in the wap of the stock, less the 60 second future move of the synthetic index. Only provided for the train set.\n",
    "\n",
    "* The synthetic index is a custom weighted index of Nasdaq-listed stocks constructed by Optiver for this competition.\n",
    "\n",
    "* The unit of the target is basis points, which is a common unit of measurement in financial markets. A 1 basis point price move is equivalent to a 0.01% price move.\n",
    "\n",
    "* Where t is the time at the current observation, we can define the target:\n",
    "\n",
    "$Target = (\\frac{StockWAP_{t+60}}{StockWAP_{t}} - \\frac{IndexWAP_{t+60}}{IndexWAP_{t}}) * 10000$"
   ]
  },
  {
   "cell_type": "markdown",
   "id": "7331eda4",
   "metadata": {
    "papermill": {
     "duration": 0.01688,
     "end_time": "2023-12-17T17:36:50.301791",
     "exception": false,
     "start_time": "2023-12-17T17:36:50.284911",
     "status": "completed"
    },
    "tags": []
   },
   "source": [
    "# Detail for Close Auction Stock trading \n",
    "### Tutorial Link :<https://www.kaggle.com/code/tomforbes/optiver-trading-at-the-close-introduction>"
   ]
  },
  {
   "cell_type": "markdown",
   "id": "31cecf20",
   "metadata": {
    "papermill": {
     "duration": 0.017109,
     "end_time": "2023-12-17T17:36:50.336606",
     "exception": false,
     "start_time": "2023-12-17T17:36:50.319497",
     "status": "completed"
    },
    "tags": []
   },
   "source": [
    "# EDA analysis"
   ]
  },
  {
   "cell_type": "markdown",
   "id": "cc5133a2",
   "metadata": {
    "papermill": {
     "duration": 0.016566,
     "end_time": "2023-12-17T17:36:50.369788",
     "exception": false,
     "start_time": "2023-12-17T17:36:50.353222",
     "status": "completed"
    },
    "tags": []
   },
   "source": []
  },
  {
   "cell_type": "code",
   "execution_count": 18,
   "id": "84e65933",
   "metadata": {
    "execution": {
     "iopub.execute_input": "2023-12-17T17:36:50.405253Z",
     "iopub.status.busy": "2023-12-17T17:36:50.404608Z",
     "iopub.status.idle": "2023-12-17T17:36:50.412232Z",
     "shell.execute_reply": "2023-12-17T17:36:50.411395Z"
    },
    "papermill": {
     "duration": 0.027572,
     "end_time": "2023-12-17T17:36:50.414361",
     "exception": false,
     "start_time": "2023-12-17T17:36:50.386789",
     "status": "completed"
    },
    "tags": []
   },
   "outputs": [],
   "source": [
    "def visualize(df, stock_id, date_id):\n",
    "    df1 = df[(df.stock_id == stock_id) & (df.date_id == date_id)].copy()\n",
    "    df1.plot(x=\"seconds_in_bucket\", y=[\"bid_price\", \"ask_price\", \"far_price\", \"near_price\", \"reference_price\"])\n",
    "    plt.title(\"bid_price, ask_price, far_price, near_price\")\n",
    "    plt.show()\n",
    "    df1.plot(x=\"seconds_in_bucket\", y=[\"bid_price\",\"ask_price\", \"wap\", \"reference_price\"])\n",
    "    plt.title(\"bid_price, ask_price, wap, refence_price\")\n",
    "    plt.show()\n",
    "    df1.plot(x=\"seconds_in_bucket\", y=[\"target\"])\n",
    "    plt.title(\"target\")\n",
    "    plt.show()\n",
    "    df1.plot(x=\"seconds_in_bucket\", y=[\"bid_size\", \"ask_size\"])\n",
    "    plt.title(\"bid_size, ask_size\")\n",
    "    plt.show()\n",
    "    df1.plot(x=\"seconds_in_bucket\", y=['imbalance_size','matched_size'])\n",
    "    plt.title(\"Imbalance_size, matched_size\")\n",
    "    plt.show()"
   ]
  },
  {
   "cell_type": "markdown",
   "id": "a0cbe4f5",
   "metadata": {
    "papermill": {
     "duration": 0.017286,
     "end_time": "2023-12-17T17:36:50.448478",
     "exception": false,
     "start_time": "2023-12-17T17:36:50.431192",
     "status": "completed"
    },
    "tags": []
   },
   "source": [
    "# Create Training Dataset with tensorflow Dataset Framework"
   ]
  },
  {
   "cell_type": "markdown",
   "id": "ef2f04c0",
   "metadata": {
    "papermill": {
     "duration": 0.025052,
     "end_time": "2023-12-17T17:36:50.495659",
     "exception": false,
     "start_time": "2023-12-17T17:36:50.470607",
     "status": "completed"
    },
    "tags": []
   },
   "source": [
    "This function windowed_dataset takes a time series data, converts it into a TensorFlow Dataset, and processes it into overlapping windows. Each window contains a sequence of data points for the model to learn from (features) and the next data point as the target (label). The dataset is then batched and prefetched for efficient training."
   ]
  },
  {
   "cell_type": "code",
   "execution_count": 19,
   "id": "59b10eb0",
   "metadata": {
    "execution": {
     "iopub.execute_input": "2023-12-17T17:36:50.541142Z",
     "iopub.status.busy": "2023-12-17T17:36:50.540108Z",
     "iopub.status.idle": "2023-12-17T17:36:50.547789Z",
     "shell.execute_reply": "2023-12-17T17:36:50.546891Z"
    },
    "papermill": {
     "duration": 0.032187,
     "end_time": "2023-12-17T17:36:50.549777",
     "exception": false,
     "start_time": "2023-12-17T17:36:50.517590",
     "status": "completed"
    },
    "tags": []
   },
   "outputs": [],
   "source": [
    "def windowed_dataset(series, window_size=N_LAGS, batch_size=BATCH_SIZE):\n",
    "#     series = tf.expand_dims(series, axis=-1)\n",
    "    ds = tf.data.Dataset.from_tensor_slices(series)\n",
    "    ds = ds.window(window_size + 1, shift=1, drop_remainder=True)\n",
    "    ds = ds.flat_map(lambda w: w.batch(window_size + 1))\n",
    "    ds = ds.map(lambda w: (w[:-1], w[-1]))\n",
    "    return ds.batch(batch_size).prefetch(1)"
   ]
  },
  {
   "cell_type": "code",
   "execution_count": 20,
   "id": "72212370",
   "metadata": {
    "execution": {
     "iopub.execute_input": "2023-12-17T17:36:50.587079Z",
     "iopub.status.busy": "2023-12-17T17:36:50.586386Z",
     "iopub.status.idle": "2023-12-17T17:36:50.594119Z",
     "shell.execute_reply": "2023-12-17T17:36:50.593151Z"
    },
    "papermill": {
     "duration": 0.029096,
     "end_time": "2023-12-17T17:36:50.596332",
     "exception": false,
     "start_time": "2023-12-17T17:36:50.567236",
     "status": "completed"
    },
    "tags": []
   },
   "outputs": [],
   "source": [
    "def windowed_dataset2(dataset, shuffle=True):\n",
    "#     dataset = tf.expand_dims(dataset, axis=-1)\n",
    "    dataset = tf.data.Dataset.from_tensor_slices(dataset)\n",
    "    dataset = dataset.window(N_LAGS + 1, shift=1, drop_remainder=True)\n",
    "    dataset = dataset.flat_map(lambda window: window.batch(N_LAGS + 1))\n",
    "    dataset = dataset.map(lambda window: (window[:-1], window[-1]))\n",
    "    if shuffle:\n",
    "        dataset = dataset.shuffle(BUFFER_SIZE)\n",
    "    dataset = dataset.batch(BATCH_SIZE).prefetch(1)\n",
    "    return dataset"
   ]
  },
  {
   "cell_type": "markdown",
   "id": "3f99bc27",
   "metadata": {
    "papermill": {
     "duration": 0.017057,
     "end_time": "2023-12-17T17:36:50.633559",
     "exception": false,
     "start_time": "2023-12-17T17:36:50.616502",
     "status": "completed"
    },
    "tags": []
   },
   "source": [
    "The function build_features takes a DataFrame containing time series data for various stocks and transforms it into a pivoted format suitable for time series analysis and modeling. The function ensures comprehensive coverage by including all combinations of stock IDs, date IDs, and time intervals, and then restructures the data into a pivot table format."
   ]
  },
  {
   "cell_type": "code",
   "execution_count": 21,
   "id": "8ce5c7b7",
   "metadata": {
    "execution": {
     "iopub.execute_input": "2023-12-17T17:36:50.669510Z",
     "iopub.status.busy": "2023-12-17T17:36:50.669098Z",
     "iopub.status.idle": "2023-12-17T17:36:54.624120Z",
     "shell.execute_reply": "2023-12-17T17:36:54.623267Z"
    },
    "papermill": {
     "duration": 3.97564,
     "end_time": "2023-12-17T17:36:54.626339",
     "exception": false,
     "start_time": "2023-12-17T17:36:50.650699",
     "status": "completed"
    },
    "tags": []
   },
   "outputs": [
    {
     "data": {
      "text/html": [
       "<div>\n",
       "<style scoped>\n",
       "    .dataframe tbody tr th:only-of-type {\n",
       "        vertical-align: middle;\n",
       "    }\n",
       "\n",
       "    .dataframe tbody tr th {\n",
       "        vertical-align: top;\n",
       "    }\n",
       "\n",
       "    .dataframe thead th {\n",
       "        text-align: right;\n",
       "    }\n",
       "</style>\n",
       "<table border=\"1\" class=\"dataframe\">\n",
       "  <thead>\n",
       "    <tr style=\"text-align: right;\">\n",
       "      <th></th>\n",
       "      <th>0</th>\n",
       "      <th>1</th>\n",
       "      <th>2</th>\n",
       "      <th>3</th>\n",
       "      <th>4</th>\n",
       "      <th>5</th>\n",
       "      <th>6</th>\n",
       "      <th>7</th>\n",
       "      <th>8</th>\n",
       "      <th>9</th>\n",
       "      <th>...</th>\n",
       "      <th>190</th>\n",
       "      <th>191</th>\n",
       "      <th>192</th>\n",
       "      <th>193</th>\n",
       "      <th>194</th>\n",
       "      <th>195</th>\n",
       "      <th>196</th>\n",
       "      <th>197</th>\n",
       "      <th>198</th>\n",
       "      <th>199</th>\n",
       "    </tr>\n",
       "  </thead>\n",
       "  <tbody>\n",
       "    <tr>\n",
       "      <th>0</th>\n",
       "      <td>-3.029704</td>\n",
       "      <td>-5.519986</td>\n",
       "      <td>-8.389950</td>\n",
       "      <td>-4.010201</td>\n",
       "      <td>-7.349849</td>\n",
       "      <td>6.779432</td>\n",
       "      <td>-2.499819</td>\n",
       "      <td>-1.959801</td>\n",
       "      <td>-5.970001</td>\n",
       "      <td>7.970333</td>\n",
       "      <td>...</td>\n",
       "      <td>6.370544</td>\n",
       "      <td>11.940002</td>\n",
       "      <td>-11.529922</td>\n",
       "      <td>-6.489754</td>\n",
       "      <td>3.999472</td>\n",
       "      <td>-0.690222</td>\n",
       "      <td>-0.810027</td>\n",
       "      <td>-8.440018</td>\n",
       "      <td>-0.510216</td>\n",
       "      <td>0.000000</td>\n",
       "    </tr>\n",
       "    <tr>\n",
       "      <th>1</th>\n",
       "      <td>0.389814</td>\n",
       "      <td>-1.620054</td>\n",
       "      <td>-7.460117</td>\n",
       "      <td>-1.040101</td>\n",
       "      <td>-6.719828</td>\n",
       "      <td>7.710457</td>\n",
       "      <td>-4.280210</td>\n",
       "      <td>-8.010268</td>\n",
       "      <td>-0.780225</td>\n",
       "      <td>-0.640154</td>\n",
       "      <td>...</td>\n",
       "      <td>4.210472</td>\n",
       "      <td>2.599955</td>\n",
       "      <td>-15.599728</td>\n",
       "      <td>-1.749992</td>\n",
       "      <td>-9.030104</td>\n",
       "      <td>-1.320243</td>\n",
       "      <td>-3.259778</td>\n",
       "      <td>-4.410148</td>\n",
       "      <td>-1.419783</td>\n",
       "      <td>0.000000</td>\n",
       "    </tr>\n",
       "    <tr>\n",
       "      <th>2</th>\n",
       "      <td>4.220009</td>\n",
       "      <td>-6.459951</td>\n",
       "      <td>-6.380081</td>\n",
       "      <td>-2.030134</td>\n",
       "      <td>-0.690222</td>\n",
       "      <td>1.009703</td>\n",
       "      <td>2.930164</td>\n",
       "      <td>-12.069941</td>\n",
       "      <td>-4.119873</td>\n",
       "      <td>-3.250241</td>\n",
       "      <td>...</td>\n",
       "      <td>5.379915</td>\n",
       "      <td>-5.970001</td>\n",
       "      <td>-12.710094</td>\n",
       "      <td>2.160072</td>\n",
       "      <td>-9.999871</td>\n",
       "      <td>5.890131</td>\n",
       "      <td>-0.029802</td>\n",
       "      <td>-6.819963</td>\n",
       "      <td>2.599955</td>\n",
       "      <td>0.000000</td>\n",
       "    </tr>\n",
       "    <tr>\n",
       "      <th>3</th>\n",
       "      <td>5.450249</td>\n",
       "      <td>-5.149841</td>\n",
       "      <td>-5.819798</td>\n",
       "      <td>1.130104</td>\n",
       "      <td>-2.589822</td>\n",
       "      <td>-3.089905</td>\n",
       "      <td>0.560284</td>\n",
       "      <td>-6.909966</td>\n",
       "      <td>-1.090169</td>\n",
       "      <td>-6.759763</td>\n",
       "      <td>...</td>\n",
       "      <td>-3.269911</td>\n",
       "      <td>1.300573</td>\n",
       "      <td>-16.660095</td>\n",
       "      <td>4.090071</td>\n",
       "      <td>-9.340048</td>\n",
       "      <td>7.020235</td>\n",
       "      <td>1.549721</td>\n",
       "      <td>1.690388</td>\n",
       "      <td>3.010035</td>\n",
       "      <td>0.000000</td>\n",
       "    </tr>\n",
       "    <tr>\n",
       "      <th>4</th>\n",
       "      <td>3.169775</td>\n",
       "      <td>-6.750226</td>\n",
       "      <td>-0.280142</td>\n",
       "      <td>-2.350211</td>\n",
       "      <td>-4.900098</td>\n",
       "      <td>-2.070069</td>\n",
       "      <td>2.199411</td>\n",
       "      <td>-1.209974</td>\n",
       "      <td>-3.100038</td>\n",
       "      <td>-8.199811</td>\n",
       "      <td>...</td>\n",
       "      <td>-2.009869</td>\n",
       "      <td>-0.969768</td>\n",
       "      <td>-9.229779</td>\n",
       "      <td>5.700588</td>\n",
       "      <td>-11.489987</td>\n",
       "      <td>4.500151</td>\n",
       "      <td>-1.350045</td>\n",
       "      <td>-1.929998</td>\n",
       "      <td>4.669428</td>\n",
       "      <td>0.000000</td>\n",
       "    </tr>\n",
       "    <tr>\n",
       "      <th>...</th>\n",
       "      <td>...</td>\n",
       "      <td>...</td>\n",
       "      <td>...</td>\n",
       "      <td>...</td>\n",
       "      <td>...</td>\n",
       "      <td>...</td>\n",
       "      <td>...</td>\n",
       "      <td>...</td>\n",
       "      <td>...</td>\n",
       "      <td>...</td>\n",
       "      <td>...</td>\n",
       "      <td>...</td>\n",
       "      <td>...</td>\n",
       "      <td>...</td>\n",
       "      <td>...</td>\n",
       "      <td>...</td>\n",
       "      <td>...</td>\n",
       "      <td>...</td>\n",
       "      <td>...</td>\n",
       "      <td>...</td>\n",
       "      <td>...</td>\n",
       "    </tr>\n",
       "    <tr>\n",
       "      <th>26450</th>\n",
       "      <td>3.999472</td>\n",
       "      <td>2.850294</td>\n",
       "      <td>-4.450083</td>\n",
       "      <td>1.720190</td>\n",
       "      <td>1.939535</td>\n",
       "      <td>-4.569888</td>\n",
       "      <td>-0.630021</td>\n",
       "      <td>-1.729727</td>\n",
       "      <td>-0.680089</td>\n",
       "      <td>3.540516</td>\n",
       "      <td>...</td>\n",
       "      <td>-4.730225</td>\n",
       "      <td>-7.420182</td>\n",
       "      <td>2.959967</td>\n",
       "      <td>-2.359748</td>\n",
       "      <td>-0.650287</td>\n",
       "      <td>3.190041</td>\n",
       "      <td>-1.659989</td>\n",
       "      <td>-0.690222</td>\n",
       "      <td>-2.700090</td>\n",
       "      <td>-7.209778</td>\n",
       "    </tr>\n",
       "    <tr>\n",
       "      <th>26451</th>\n",
       "      <td>3.190041</td>\n",
       "      <td>3.169775</td>\n",
       "      <td>-5.559921</td>\n",
       "      <td>4.669428</td>\n",
       "      <td>2.139807</td>\n",
       "      <td>1.679659</td>\n",
       "      <td>-0.360012</td>\n",
       "      <td>-3.240108</td>\n",
       "      <td>2.609491</td>\n",
       "      <td>1.679659</td>\n",
       "      <td>...</td>\n",
       "      <td>-3.340244</td>\n",
       "      <td>-3.479719</td>\n",
       "      <td>1.419783</td>\n",
       "      <td>-1.069903</td>\n",
       "      <td>2.319813</td>\n",
       "      <td>3.770590</td>\n",
       "      <td>-3.039837</td>\n",
       "      <td>-3.299713</td>\n",
       "      <td>-2.070069</td>\n",
       "      <td>-9.750128</td>\n",
       "    </tr>\n",
       "    <tr>\n",
       "      <th>26452</th>\n",
       "      <td>-0.169873</td>\n",
       "      <td>5.689859</td>\n",
       "      <td>-5.310178</td>\n",
       "      <td>5.639791</td>\n",
       "      <td>1.660585</td>\n",
       "      <td>2.110004</td>\n",
       "      <td>-1.000166</td>\n",
       "      <td>-4.529953</td>\n",
       "      <td>5.409718</td>\n",
       "      <td>0.350475</td>\n",
       "      <td>...</td>\n",
       "      <td>-1.549721</td>\n",
       "      <td>-1.289845</td>\n",
       "      <td>-0.140071</td>\n",
       "      <td>-1.929998</td>\n",
       "      <td>4.609823</td>\n",
       "      <td>1.449585</td>\n",
       "      <td>-6.319880</td>\n",
       "      <td>-1.999736</td>\n",
       "      <td>-2.239943</td>\n",
       "      <td>3.629923</td>\n",
       "    </tr>\n",
       "    <tr>\n",
       "      <th>26453</th>\n",
       "      <td>3.110170</td>\n",
       "      <td>10.650158</td>\n",
       "      <td>-5.239844</td>\n",
       "      <td>5.229712</td>\n",
       "      <td>0.300407</td>\n",
       "      <td>-2.030134</td>\n",
       "      <td>-1.180172</td>\n",
       "      <td>-1.310110</td>\n",
       "      <td>3.240108</td>\n",
       "      <td>0.220537</td>\n",
       "      <td>...</td>\n",
       "      <td>-1.440048</td>\n",
       "      <td>-0.299811</td>\n",
       "      <td>-2.120137</td>\n",
       "      <td>-1.350045</td>\n",
       "      <td>3.110170</td>\n",
       "      <td>4.019737</td>\n",
       "      <td>-7.349849</td>\n",
       "      <td>-3.259778</td>\n",
       "      <td>-3.160238</td>\n",
       "      <td>4.760027</td>\n",
       "    </tr>\n",
       "    <tr>\n",
       "      <th>26454</th>\n",
       "      <td>0.760555</td>\n",
       "      <td>15.859604</td>\n",
       "      <td>-1.549721</td>\n",
       "      <td>3.160238</td>\n",
       "      <td>1.009703</td>\n",
       "      <td>2.340078</td>\n",
       "      <td>1.410246</td>\n",
       "      <td>-1.260042</td>\n",
       "      <td>3.679991</td>\n",
       "      <td>-1.609921</td>\n",
       "      <td>...</td>\n",
       "      <td>-0.470281</td>\n",
       "      <td>0.799894</td>\n",
       "      <td>-1.729727</td>\n",
       "      <td>-3.880262</td>\n",
       "      <td>4.839897</td>\n",
       "      <td>2.310276</td>\n",
       "      <td>-8.220077</td>\n",
       "      <td>1.169443</td>\n",
       "      <td>-1.540184</td>\n",
       "      <td>-6.530285</td>\n",
       "    </tr>\n",
       "  </tbody>\n",
       "</table>\n",
       "<p>26455 rows × 200 columns</p>\n",
       "</div>"
      ],
      "text/plain": [
       "            0          1         2         3         4         5         6    \\\n",
       "0     -3.029704  -5.519986 -8.389950 -4.010201 -7.349849  6.779432 -2.499819   \n",
       "1      0.389814  -1.620054 -7.460117 -1.040101 -6.719828  7.710457 -4.280210   \n",
       "2      4.220009  -6.459951 -6.380081 -2.030134 -0.690222  1.009703  2.930164   \n",
       "3      5.450249  -5.149841 -5.819798  1.130104 -2.589822 -3.089905  0.560284   \n",
       "4      3.169775  -6.750226 -0.280142 -2.350211 -4.900098 -2.070069  2.199411   \n",
       "...         ...        ...       ...       ...       ...       ...       ...   \n",
       "26450  3.999472   2.850294 -4.450083  1.720190  1.939535 -4.569888 -0.630021   \n",
       "26451  3.190041   3.169775 -5.559921  4.669428  2.139807  1.679659 -0.360012   \n",
       "26452 -0.169873   5.689859 -5.310178  5.639791  1.660585  2.110004 -1.000166   \n",
       "26453  3.110170  10.650158 -5.239844  5.229712  0.300407 -2.030134 -1.180172   \n",
       "26454  0.760555  15.859604 -1.549721  3.160238  1.009703  2.340078  1.410246   \n",
       "\n",
       "             7         8         9    ...       190        191        192  \\\n",
       "0      -1.959801 -5.970001  7.970333  ...  6.370544  11.940002 -11.529922   \n",
       "1      -8.010268 -0.780225 -0.640154  ...  4.210472   2.599955 -15.599728   \n",
       "2     -12.069941 -4.119873 -3.250241  ...  5.379915  -5.970001 -12.710094   \n",
       "3      -6.909966 -1.090169 -6.759763  ... -3.269911   1.300573 -16.660095   \n",
       "4      -1.209974 -3.100038 -8.199811  ... -2.009869  -0.969768  -9.229779   \n",
       "...          ...       ...       ...  ...       ...        ...        ...   \n",
       "26450  -1.729727 -0.680089  3.540516  ... -4.730225  -7.420182   2.959967   \n",
       "26451  -3.240108  2.609491  1.679659  ... -3.340244  -3.479719   1.419783   \n",
       "26452  -4.529953  5.409718  0.350475  ... -1.549721  -1.289845  -0.140071   \n",
       "26453  -1.310110  3.240108  0.220537  ... -1.440048  -0.299811  -2.120137   \n",
       "26454  -1.260042  3.679991 -1.609921  ... -0.470281   0.799894  -1.729727   \n",
       "\n",
       "            193        194       195       196       197       198       199  \n",
       "0     -6.489754   3.999472 -0.690222 -0.810027 -8.440018 -0.510216  0.000000  \n",
       "1     -1.749992  -9.030104 -1.320243 -3.259778 -4.410148 -1.419783  0.000000  \n",
       "2      2.160072  -9.999871  5.890131 -0.029802 -6.819963  2.599955  0.000000  \n",
       "3      4.090071  -9.340048  7.020235  1.549721  1.690388  3.010035  0.000000  \n",
       "4      5.700588 -11.489987  4.500151 -1.350045 -1.929998  4.669428  0.000000  \n",
       "...         ...        ...       ...       ...       ...       ...       ...  \n",
       "26450 -2.359748  -0.650287  3.190041 -1.659989 -0.690222 -2.700090 -7.209778  \n",
       "26451 -1.069903   2.319813  3.770590 -3.039837 -3.299713 -2.070069 -9.750128  \n",
       "26452 -1.929998   4.609823  1.449585 -6.319880 -1.999736 -2.239943  3.629923  \n",
       "26453 -1.350045   3.110170  4.019737 -7.349849 -3.259778 -3.160238  4.760027  \n",
       "26454 -3.880262   4.839897  2.310276 -8.220077  1.169443 -1.540184 -6.530285  \n",
       "\n",
       "[26455 rows x 200 columns]"
      ]
     },
     "execution_count": 21,
     "metadata": {},
     "output_type": "execute_result"
    }
   ],
   "source": [
    "def build_features(df):\n",
    "    all_stock_ids = range(N_STOCKS)\n",
    "    all_date_ids = df[\"date_id\"].unique() # find unqiue date id \n",
    "    all_seconds = [i * 10 for i in range(N_SECONDS)]\n",
    "    \n",
    "    # Set multi-index (stock_id, date_id, seconds_in_bucket)\n",
    "    multi_index = pd.MultiIndex.from_product([all_stock_ids, all_date_ids, all_seconds], \n",
    "                                             names=['stock_id', 'date_id', 'seconds_in_bucket'])\n",
    "    df_full = df.set_index(['stock_id', 'date_id', 'seconds_in_bucket']).reindex(multi_index)\n",
    "    df_full = df_full.fillna(0) # fill missing value with 0\n",
    "    df_full = df_full.reset_index()\n",
    "    \n",
    "    #create pivot table \n",
    "    df_pivoted = df_full.pivot_table(\n",
    "                values='target',       # set each row value is taget\n",
    "                index=['date_id', 'seconds_in_bucket'], # ste date_id, seconds_in_bucket for index \n",
    "                columns='stock_id')   # set stock_id  for column \n",
    "\n",
    "    df_pivoted = df_pivoted.reset_index(drop=True) # remove new date_id, second_in_bucket index  \n",
    "    df_pivoted.columns.name = None  # remove column name\n",
    "    \n",
    "    return df_pivoted\n",
    "\n",
    "\n",
    "testFeature = build_features(df_full)\n",
    "testFeature"
   ]
  },
  {
   "cell_type": "code",
   "execution_count": 22,
   "id": "6556875b",
   "metadata": {
    "execution": {
     "iopub.execute_input": "2023-12-17T17:36:54.662913Z",
     "iopub.status.busy": "2023-12-17T17:36:54.662625Z",
     "iopub.status.idle": "2023-12-17T17:36:54.666334Z",
     "shell.execute_reply": "2023-12-17T17:36:54.665607Z"
    },
    "papermill": {
     "duration": 0.023964,
     "end_time": "2023-12-17T17:36:54.668172",
     "exception": false,
     "start_time": "2023-12-17T17:36:54.644208",
     "status": "completed"
    },
    "tags": []
   },
   "outputs": [],
   "source": [
    "# testDF\n",
    "# testWindow = windowed_dataset(testFeature)\n",
    "# testWindow"
   ]
  },
  {
   "cell_type": "code",
   "execution_count": 23,
   "id": "8a39cc3a",
   "metadata": {
    "execution": {
     "iopub.execute_input": "2023-12-17T17:36:54.704604Z",
     "iopub.status.busy": "2023-12-17T17:36:54.704345Z",
     "iopub.status.idle": "2023-12-17T17:36:54.708002Z",
     "shell.execute_reply": "2023-12-17T17:36:54.707150Z"
    },
    "papermill": {
     "duration": 0.02405,
     "end_time": "2023-12-17T17:36:54.709797",
     "exception": false,
     "start_time": "2023-12-17T17:36:54.685747",
     "status": "completed"
    },
    "tags": []
   },
   "outputs": [],
   "source": [
    "# testDF.head(56)"
   ]
  },
  {
   "cell_type": "code",
   "execution_count": 24,
   "id": "e4e1e23a",
   "metadata": {
    "execution": {
     "iopub.execute_input": "2023-12-17T17:36:54.745598Z",
     "iopub.status.busy": "2023-12-17T17:36:54.745341Z",
     "iopub.status.idle": "2023-12-17T17:36:54.920514Z",
     "shell.execute_reply": "2023-12-17T17:36:54.919607Z"
    },
    "papermill": {
     "duration": 0.195658,
     "end_time": "2023-12-17T17:36:54.922837",
     "exception": false,
     "start_time": "2023-12-17T17:36:54.727179",
     "status": "completed"
    },
    "tags": []
   },
   "outputs": [
    {
     "data": {
      "text/plain": [
       "0"
      ]
     },
     "execution_count": 24,
     "metadata": {},
     "output_type": "execute_result"
    }
   ],
   "source": [
    "gc.collect()"
   ]
  },
  {
   "cell_type": "markdown",
   "id": "19b948cb",
   "metadata": {
    "papermill": {
     "duration": 0.017684,
     "end_time": "2023-12-17T17:36:54.958425",
     "exception": false,
     "start_time": "2023-12-17T17:36:54.940741",
     "status": "completed"
    },
    "tags": []
   },
   "source": [
    "# LSTM Model"
   ]
  },
  {
   "cell_type": "code",
   "execution_count": 25,
   "id": "2f7f6910",
   "metadata": {
    "execution": {
     "iopub.execute_input": "2023-12-17T17:36:54.995513Z",
     "iopub.status.busy": "2023-12-17T17:36:54.994833Z",
     "iopub.status.idle": "2023-12-17T17:36:55.000807Z",
     "shell.execute_reply": "2023-12-17T17:36:54.999924Z"
    },
    "papermill": {
     "duration": 0.02658,
     "end_time": "2023-12-17T17:36:55.002670",
     "exception": false,
     "start_time": "2023-12-17T17:36:54.976090",
     "status": "completed"
    },
    "tags": []
   },
   "outputs": [],
   "source": [
    "def build_model(dropout=DROPOUT):\n",
    "    model = Sequential()\n",
    "    model.add(Input(shape=(N_LAGS, N_STOCKS)))\n",
    "    model.add(Dropout(dropout))\n",
    "    model.add(LSTM(32, return_sequences=False))\n",
    "    model.add(Dropout(dropout))\n",
    "    model.add(Dense(N_STOCKS))\n",
    "    model.compile(loss='mae',\n",
    "#     optimizer=tf.keras.optimizers.Adam(learning_rate=LEARNING_RATE))\n",
    "    optimizer= tf.keras.optimizers.legacy.Adam(learning_rate=LEARNING_RATE)) # for new version tensorflow\n",
    "    return model"
   ]
  },
  {
   "cell_type": "code",
   "execution_count": 26,
   "id": "4cad8056",
   "metadata": {
    "execution": {
     "iopub.execute_input": "2023-12-17T17:36:55.038641Z",
     "iopub.status.busy": "2023-12-17T17:36:55.038399Z",
     "iopub.status.idle": "2023-12-17T17:36:55.042151Z",
     "shell.execute_reply": "2023-12-17T17:36:55.041285Z"
    },
    "papermill": {
     "duration": 0.024007,
     "end_time": "2023-12-17T17:36:55.044092",
     "exception": false,
     "start_time": "2023-12-17T17:36:55.020085",
     "status": "completed"
    },
    "tags": []
   },
   "outputs": [],
   "source": [
    "# dataset = windowed_dataset(features, N_LAGS, BATCH_SIZE)"
   ]
  },
  {
   "cell_type": "code",
   "execution_count": 27,
   "id": "9f93f51b",
   "metadata": {
    "execution": {
     "iopub.execute_input": "2023-12-17T17:36:55.080197Z",
     "iopub.status.busy": "2023-12-17T17:36:55.079944Z",
     "iopub.status.idle": "2023-12-17T17:36:55.086222Z",
     "shell.execute_reply": "2023-12-17T17:36:55.085407Z"
    },
    "papermill": {
     "duration": 0.026536,
     "end_time": "2023-12-17T17:36:55.088078",
     "exception": false,
     "start_time": "2023-12-17T17:36:55.061542",
     "status": "completed"
    },
    "tags": []
   },
   "outputs": [],
   "source": [
    "def build_model2(dropout=DROPOUT):\n",
    "    # must add return sequence=True for multiple level LSTM \n",
    "    model = tf.keras.models.Sequential([\n",
    "    \n",
    "    tf.keras.layers.Bidirectional(tf.keras.layers.LSTM(128, activation='relu',\n",
    "                                                        return_sequences=True), input_shape=(N_LAGS, N_STOCKS)), #, return_sequences=True),\n",
    "    tf.keras.layers.LSTM(64, activation='relu'),\n",
    "    #         tf.keras.layers.Dense(10, activation='relu'),\n",
    "    tf.keras.layers.Dropout(dropout),\n",
    "    tf.keras.layers.Dense(N_STOCKS, activation = 'linear')\n",
    "    ])\n",
    "    model.compile(  \n",
    "#                     optimizer=tf.keras.optimizers.Adam(learning_rate=LEARNING_RATE), \n",
    "                     optimizer= tf.keras.optimizers.legacy.Adam(learning_rate=LEARNING_RATE), # for new version tensorflow\n",
    "                       loss=\"mae\", metrics=[\"mae\"])\n",
    "    return model"
   ]
  },
  {
   "cell_type": "code",
   "execution_count": 28,
   "id": "c46c6e26",
   "metadata": {
    "execution": {
     "iopub.execute_input": "2023-12-17T17:36:55.124199Z",
     "iopub.status.busy": "2023-12-17T17:36:55.123947Z",
     "iopub.status.idle": "2023-12-17T17:36:55.130003Z",
     "shell.execute_reply": "2023-12-17T17:36:55.129246Z"
    },
    "papermill": {
     "duration": 0.02632,
     "end_time": "2023-12-17T17:36:55.131985",
     "exception": false,
     "start_time": "2023-12-17T17:36:55.105665",
     "status": "completed"
    },
    "tags": []
   },
   "outputs": [],
   "source": [
    "def build_model3(dropout=DROPOUT):\n",
    "    # must add return sequence=True for multiple level LSTM \n",
    "    model = tf.keras.models.Sequential([\n",
    "    \n",
    "#     tf.keras.layers.Bidirectional(tf.keras.layers.LSTM(64, activation='relu', return_sequences=True),\n",
    "#                                   input_shape=(N_LAGS, N_STOCKS)),\n",
    "    tf.keras.layers.LSTM(64, activation='relu', return_sequences=True, \n",
    "                                  input_shape=(N_LAGS, N_STOCKS)),\n",
    "    tf.keras.layers.LSTM(64, activation='relu'),\n",
    "        #         tf.keras.layers.Dense(10, activation='relu'),\n",
    "        tf.keras.layers.Dropout(dropout),\n",
    "        tf.keras.layers.Dense(N_STOCKS, activation = 'linear')\n",
    "    ])\n",
    "    model.compile( \n",
    "#                     optimizer=tf.keras.optimizers.Adam(learning_rate=LEARNING_RATE), \n",
    "                    optimizer= tf.keras.optimizers.legacy.Adam(learning_rate=LEARNING_RATE), # for new version tensorflow\n",
    "                       loss=\"mae\", metrics=[\"mae\"])\n",
    "    return model"
   ]
  },
  {
   "cell_type": "code",
   "execution_count": 29,
   "id": "d1159e70",
   "metadata": {
    "execution": {
     "iopub.execute_input": "2023-12-17T17:36:55.167923Z",
     "iopub.status.busy": "2023-12-17T17:36:55.167647Z",
     "iopub.status.idle": "2023-12-17T17:36:55.173132Z",
     "shell.execute_reply": "2023-12-17T17:36:55.172351Z"
    },
    "papermill": {
     "duration": 0.025742,
     "end_time": "2023-12-17T17:36:55.175211",
     "exception": false,
     "start_time": "2023-12-17T17:36:55.149469",
     "status": "completed"
    },
    "tags": []
   },
   "outputs": [],
   "source": [
    "# Define the BLSTM model\n",
    "def build_model4(dropout=DROPOUT):\n",
    "    model = Sequential()\n",
    "    model.add(tf.keras.layers.Bidirectional(tf.keras.layers.LSTM(64, activation='relu', return_sequences=True), input_shape=(N_LAGS, N_STOCKS)))\n",
    "    model.add(tf.keras.layers.TimeDistributed(tf.keras.layers.Dense(32, activation = 'relu'))),\n",
    "    model.add(Dense(1))  # Output layer for regression\n",
    "\n",
    "    # Compile the model\n",
    "    model.compile(optimizer='adam', loss='mae')\n",
    "    return model"
   ]
  },
  {
   "cell_type": "markdown",
   "id": "ee3f850c",
   "metadata": {
    "papermill": {
     "duration": 0.017239,
     "end_time": "2023-12-17T17:36:55.209665",
     "exception": false,
     "start_time": "2023-12-17T17:36:55.192426",
     "status": "completed"
    },
    "tags": []
   },
   "source": [
    "# LSTM Autoencoder\n",
    "### tutorial: A Gentle Introduction to LSTM Autoencoders <https://machinelearningmastery.com/lstm-autoencoders/>\n",
    "### Paper : Hybrid Variational Autoencoder for Time Series Forecasting <https://arxiv.org/pdf/2303.07048.pdf>\n",
    "### Sample Code : <https://www.kaggle.com/code/dimitreoliveira/time-series-forecasting-with-lstm-autoencoders>"
   ]
  },
  {
   "cell_type": "code",
   "execution_count": 30,
   "id": "0e3a527a",
   "metadata": {
    "execution": {
     "iopub.execute_input": "2023-12-17T17:36:55.246312Z",
     "iopub.status.busy": "2023-12-17T17:36:55.245673Z",
     "iopub.status.idle": "2023-12-17T17:36:55.252675Z",
     "shell.execute_reply": "2023-12-17T17:36:55.251891Z"
    },
    "papermill": {
     "duration": 0.027712,
     "end_time": "2023-12-17T17:36:55.254938",
     "exception": false,
     "start_time": "2023-12-17T17:36:55.227226",
     "status": "completed"
    },
    "tags": []
   },
   "outputs": [],
   "source": [
    "# Define the LSTM AutoEncoder model\n",
    "def build_model5(dropout=DROPOUT):\n",
    "    model = tf.keras.models.Sequential([\n",
    "    tf.keras.layers.LSTM(32, activation='relu', return_sequences=True, \n",
    "                                  input_shape=(N_LAGS, N_STOCKS), dropout=dropout),\n",
    "    tf.keras.layers.LSTM(16, activation='relu'),\n",
    "    tf.keras.layers.RepeatVector(N_LAGS),\n",
    "    #     tf.keras.layers.Dropout(dropout),\n",
    "    tf.keras.layers.LSTM(16, activation='relu', return_sequences=True),\n",
    "    tf.keras.layers.LSTM(32, activation='relu', return_sequences=False),\n",
    "    tf.keras.layers.Dropout(dropout),\n",
    "    tf.keras.layers.Dense(N_STOCKS, activation = 'linear')\n",
    "    ])\n",
    "    model.compile( \n",
    "#                     optimizer=tf.keras.optimizers.Adam(learning_rate=LEARNING_RATE), \n",
    "                    optimizer= tf.keras.optimizers.legacy.Adam(learning_rate=LEARNING_RATE), # for new version tensorflow\n",
    "                       loss=\"mae\", metrics=[\"mae\"])\n",
    "    return model"
   ]
  },
  {
   "cell_type": "markdown",
   "id": "7b333c9b",
   "metadata": {
    "papermill": {
     "duration": 0.017476,
     "end_time": "2023-12-17T17:36:55.290408",
     "exception": false,
     "start_time": "2023-12-17T17:36:55.272932",
     "status": "completed"
    },
    "tags": []
   },
   "source": [
    "# Bidirectional LSTM Autoencoder\n",
    "### Paper: [Bidirectional Convolutional LSTM Autoencoder for Risk Detection](https://www.researchgate.net/profile/Khalid-Housni/publication/345388250_Bidirectional_Convolutional_LSTM_Autoencoder_for_Risk_Detection/links/5fa5694692851cc286993a66/Bidirectional-Convolutional-LSTM-Autoencoder-for-Risk-Detection.pdf) \n",
    "\n",
    "### Paper: [A Bi-LSTM Autoencoder Framework for Anomaly Detection – A Case Study of a Wind Power Dataset](https://arxiv.org/pdf/2303.09703.pdf)\n",
    "\n",
    "### Paper: [Bi-LSTM-Based Deep Stacked Sequence-to-Sequence Autoencoder for Forecasting Solar Irradiation and Wind Speed](https://www.techscience.com/cmc/v75n3/52626/pdf)"
   ]
  },
  {
   "cell_type": "code",
   "execution_count": 31,
   "id": "8a525d6f",
   "metadata": {
    "execution": {
     "iopub.execute_input": "2023-12-17T17:36:55.327692Z",
     "iopub.status.busy": "2023-12-17T17:36:55.327216Z",
     "iopub.status.idle": "2023-12-17T17:36:55.334935Z",
     "shell.execute_reply": "2023-12-17T17:36:55.333961Z"
    },
    "papermill": {
     "duration": 0.027889,
     "end_time": "2023-12-17T17:36:55.336908",
     "exception": false,
     "start_time": "2023-12-17T17:36:55.309019",
     "status": "completed"
    },
    "tags": []
   },
   "outputs": [],
   "source": [
    "# Define the BiDirectional LSTM AutoEncoder model\n",
    "def build_model6(dropout=DROPOUT):\n",
    "    model = tf.keras.models.Sequential([\n",
    "#     tf.keras.layers.LSTM(32, activation='relu', return_sequences=True, \n",
    "#                                   input_shape=(N_LAGS, N_STOCKS), dropout=dropout),\n",
    "    tf.keras.layers.Bidirectional(tf.keras.layers.LSTM(32, activation='relu',\n",
    "                                                        return_sequences=True,  dropout=dropout), input_shape=(N_LAGS, N_STOCKS)), \n",
    "    tf.keras.layers.Bidirectional(tf.keras.layers.LSTM(16, activation='relu')),\n",
    "    tf.keras.layers.RepeatVector(N_LAGS),\n",
    "    #     tf.keras.layers.Dropout(dropout),\n",
    "    tf.keras.layers.Bidirectional(tf.keras.layers.LSTM(16, activation='relu', return_sequences=True)),\n",
    "    tf.keras.layers.Bidirectional(tf.keras.layers.LSTM(32, activation='relu', return_sequences=False)),\n",
    "    tf.keras.layers.Dropout(dropout),\n",
    "    tf.keras.layers.Dense(N_STOCKS, activation = 'linear')\n",
    "    ])\n",
    "    model.compile( \n",
    "#                     optimizer=tf.keras.optimizers.Adam(learning_rate=LEARNING_RATE), \n",
    "                    optimizer= tf.keras.optimizers.legacy.Adam(learning_rate=LEARNING_RATE), # for new version tensorflow\n",
    "                       loss=\"mae\", metrics=[\"mae\"])\n",
    "    return model"
   ]
  },
  {
   "cell_type": "code",
   "execution_count": 32,
   "id": "dd3bcd41",
   "metadata": {
    "execution": {
     "iopub.execute_input": "2023-12-17T17:36:55.372649Z",
     "iopub.status.busy": "2023-12-17T17:36:55.372394Z",
     "iopub.status.idle": "2023-12-17T17:36:55.376117Z",
     "shell.execute_reply": "2023-12-17T17:36:55.375405Z"
    },
    "papermill": {
     "duration": 0.023722,
     "end_time": "2023-12-17T17:36:55.377955",
     "exception": false,
     "start_time": "2023-12-17T17:36:55.354233",
     "status": "completed"
    },
    "tags": []
   },
   "outputs": [],
   "source": [
    "# with strategy.scope():\n",
    "#     model1 = build_model()\n",
    "# model1.summary()\n",
    "# modelPolicy(model1)\n",
    "# result = get_flops_model(model1)\n",
    "# print(\"\\n\\rResult:\", result, \" GFLOPS\")"
   ]
  },
  {
   "cell_type": "code",
   "execution_count": 33,
   "id": "8db5784c",
   "metadata": {
    "execution": {
     "iopub.execute_input": "2023-12-17T17:36:55.414259Z",
     "iopub.status.busy": "2023-12-17T17:36:55.413961Z",
     "iopub.status.idle": "2023-12-17T17:36:55.417719Z",
     "shell.execute_reply": "2023-12-17T17:36:55.416899Z"
    },
    "papermill": {
     "duration": 0.02418,
     "end_time": "2023-12-17T17:36:55.419533",
     "exception": false,
     "start_time": "2023-12-17T17:36:55.395353",
     "status": "completed"
    },
    "tags": []
   },
   "outputs": [],
   "source": [
    "# with strategy.scope():\n",
    "#     model2 = build_model2()\n",
    "# model2.summary()\n",
    "# modelPolicy(model2)\n",
    "# result = get_flops_model(model2)\n",
    "# print(\"\\n\\rResult:\", result, \" GFLOPS\")"
   ]
  },
  {
   "cell_type": "code",
   "execution_count": 34,
   "id": "450fe802",
   "metadata": {
    "execution": {
     "iopub.execute_input": "2023-12-17T17:36:55.455791Z",
     "iopub.status.busy": "2023-12-17T17:36:55.455522Z",
     "iopub.status.idle": "2023-12-17T17:36:55.459327Z",
     "shell.execute_reply": "2023-12-17T17:36:55.458504Z"
    },
    "papermill": {
     "duration": 0.024246,
     "end_time": "2023-12-17T17:36:55.461246",
     "exception": false,
     "start_time": "2023-12-17T17:36:55.437000",
     "status": "completed"
    },
    "tags": []
   },
   "outputs": [],
   "source": [
    "# with strategy.scope(): # for multiple GPU\n",
    "#     model3 = build_model3()\n",
    "# model3.summary()\n",
    "# modelPolicy(model3)\n",
    "# result = get_flops_model(model3)\n",
    "# print(\"\\n\\rResult:\", result, \" GFLOPS\")"
   ]
  },
  {
   "cell_type": "code",
   "execution_count": null,
   "id": "733bf034",
   "metadata": {
    "papermill": {
     "duration": 0.017354,
     "end_time": "2023-12-17T17:36:55.496554",
     "exception": false,
     "start_time": "2023-12-17T17:36:55.479200",
     "status": "completed"
    },
    "tags": []
   },
   "outputs": [],
   "source": []
  },
  {
   "cell_type": "code",
   "execution_count": 35,
   "id": "c232f365",
   "metadata": {
    "execution": {
     "iopub.execute_input": "2023-12-17T17:36:55.532126Z",
     "iopub.status.busy": "2023-12-17T17:36:55.531889Z",
     "iopub.status.idle": "2023-12-17T17:36:55.535537Z",
     "shell.execute_reply": "2023-12-17T17:36:55.534732Z"
    },
    "papermill": {
     "duration": 0.023714,
     "end_time": "2023-12-17T17:36:55.537454",
     "exception": false,
     "start_time": "2023-12-17T17:36:55.513740",
     "status": "completed"
    },
    "tags": []
   },
   "outputs": [],
   "source": [
    "# with strategy.scope():\n",
    "#     model4 = build_model4()\n",
    "# model4.summary()\n",
    "# modelPolicy(model4)\n",
    "# result = get_flops_model(model4)\n",
    "# print(\"\\n\\rResult:\", result, \" GFLOPS\")"
   ]
  },
  {
   "cell_type": "code",
   "execution_count": 36,
   "id": "2953cbee",
   "metadata": {
    "execution": {
     "iopub.execute_input": "2023-12-17T17:36:55.573587Z",
     "iopub.status.busy": "2023-12-17T17:36:55.573103Z",
     "iopub.status.idle": "2023-12-17T17:36:55.576682Z",
     "shell.execute_reply": "2023-12-17T17:36:55.575901Z"
    },
    "papermill": {
     "duration": 0.023315,
     "end_time": "2023-12-17T17:36:55.578479",
     "exception": false,
     "start_time": "2023-12-17T17:36:55.555164",
     "status": "completed"
    },
    "tags": []
   },
   "outputs": [],
   "source": [
    "# with strategy.scope():\n",
    "#     model5 = build_model5() # for Autoencoder\n",
    "# model5.summary()\n",
    "# modelPolicy(model5)"
   ]
  },
  {
   "cell_type": "code",
   "execution_count": 37,
   "id": "6c728358",
   "metadata": {
    "execution": {
     "iopub.execute_input": "2023-12-17T17:36:55.614426Z",
     "iopub.status.busy": "2023-12-17T17:36:55.614152Z",
     "iopub.status.idle": "2023-12-17T17:36:55.617574Z",
     "shell.execute_reply": "2023-12-17T17:36:55.616828Z"
    },
    "papermill": {
     "duration": 0.023617,
     "end_time": "2023-12-17T17:36:55.619450",
     "exception": false,
     "start_time": "2023-12-17T17:36:55.595833",
     "status": "completed"
    },
    "tags": []
   },
   "outputs": [],
   "source": [
    "# with strategy.scope():\n",
    "#     model6 = build_model6() # for Autoencoder\n",
    "# model6.summary()\n",
    "# modelPolicy(model6)"
   ]
  },
  {
   "cell_type": "markdown",
   "id": "d54c8cdd",
   "metadata": {
    "papermill": {
     "duration": 0.017064,
     "end_time": "2023-12-17T17:36:55.653977",
     "exception": false,
     "start_time": "2023-12-17T17:36:55.636913",
     "status": "completed"
    },
    "tags": []
   },
   "source": [
    "# Train/Validation/Test Evaluation"
   ]
  },
  {
   "cell_type": "code",
   "execution_count": 38,
   "id": "be9f49d0",
   "metadata": {
    "execution": {
     "iopub.execute_input": "2023-12-17T17:36:55.690287Z",
     "iopub.status.busy": "2023-12-17T17:36:55.690039Z",
     "iopub.status.idle": "2023-12-17T17:36:55.696384Z",
     "shell.execute_reply": "2023-12-17T17:36:55.695618Z"
    },
    "papermill": {
     "duration": 0.026704,
     "end_time": "2023-12-17T17:36:55.698253",
     "exception": false,
     "start_time": "2023-12-17T17:36:55.671549",
     "status": "completed"
    },
    "tags": []
   },
   "outputs": [],
   "source": [
    "# %%time\n",
    "# if RUN_EVALUATION:\n",
    "\n",
    "#     TOTAL_STUDY_PERIOD = (len(set(df_full.date_id)) - STUDY_PERIOD_DAYS) // TESTING_DAYS\n",
    "\n",
    "#     models = []\n",
    "#     metrics = []\n",
    "\n",
    "#     for i in range(TOTAL_STUDY_PERIOD):\n",
    "\n",
    "#         train_start_date = i * TESTING_DAYS\n",
    "#         train_end_date = train_start_date + TRAINING_DAYS\n",
    "\n",
    "#         test_start_date = train_end_date\n",
    "#         test_end_date = train_end_date + TESTING_DAYS\n",
    "\n",
    "#         print(f\"====== PERIOD {i} ======\")\n",
    "\n",
    "#         print(f\"train_start_date: {train_start_date}, train_end_date: {train_end_date}, test_start_date: {test_start_date}, test_end_date: {test_end_date}\")\n",
    "\n",
    "#         df_train = df_full[(df_full['date_id'] >= train_start_date) & (df_full['date_id'] < train_end_date)].copy()\n",
    "#         df_test = df_full[(df_full['date_id'] >= test_start_date) & (df_full['date_id'] < test_end_date)].copy()\n",
    "\n",
    "#         df_train_features = build_features(df_train)\n",
    "#         df_test_features = build_features(df_test)\n",
    "\n",
    "#         scaler = StandardScaler()\n",
    "#         train_features = scaler.fit_transform(df_train_features)\n",
    "#         test_features = scaler.transform(df_test_features)\n",
    "\n",
    "#         train_dataset = windowed_dataset(train_features, N_LAGS, BATCH_SIZE)\n",
    "#         test_dataset = windowed_dataset(test_features, N_LAGS, BATCH_SIZE)\n",
    "\n",
    "#         model = build_model2()#build_model()\n",
    "\n",
    "#         early_stopping = EarlyStopping(monitor='val_loss',\n",
    "#                           mode='min',\n",
    "#                           patience=PATIENCE,\n",
    "#                           restore_best_weights=True,\n",
    "#                           verbose=True)\n",
    "\n",
    "#         history = model.fit(train_dataset,\n",
    "#                             validation_data=test_dataset,\n",
    "#                             epochs=EPOCHS,\n",
    "#                             batch_size=BATCH_SIZE,\n",
    "#                             callbacks=[early_stopping],\n",
    "#                             verbose=True)\n",
    "\n",
    "#         ## Evaluate ## \n",
    "#         y_pred = model.predict(test_dataset)\n",
    "\n",
    "#         y_pred = scaler.inverse_transform(y_pred)\n",
    "#         y_true = scaler.inverse_transform(test_features)\n",
    "\n",
    "#         mae = mean_absolute_error(y_true[N_LAGS:], y_pred)\n",
    "#         print(f\"MAE score for period {i}: {mae}\")\n",
    "\n",
    "#         models.append(model)\n",
    "#         metrics.append(mae)\n",
    "\n",
    "#         ## Plots ##\n",
    "#         plt.plot(history.history['loss'])\n",
    "#         plt.plot(history.history['val_loss'])\n",
    "#         plt.title('model train vs validation loss')\n",
    "#         plt.ylabel('loss')\n",
    "#         plt.xlabel('epoch')\n",
    "#         plt.legend(['train', 'validation'], loc='upper right')\n",
    "#         plt.show()\n",
    "        \n",
    "#     df_metrics = pd.DataFrame(metrics, index=range(TOTAL_STUDY_PERIOD), columns=['MAE'])\n",
    "#     mean_score = sum(metrics) / len(metrics)\n",
    "#     std_score = pd.Series(metrics).std()\n",
    "#     df_metrics.loc['Mean'] = mean_score\n",
    "#     df_metrics.loc['Std'] = std_score\n",
    "    \n",
    "#     print(df_metrics)\n",
    "\n",
    "# else:\n",
    "#     print(\"Sliding Window Evaluation skipped\")\n",
    "    "
   ]
  },
  {
   "cell_type": "code",
   "execution_count": 39,
   "id": "3b54f7b0",
   "metadata": {
    "execution": {
     "iopub.execute_input": "2023-12-17T17:36:55.734140Z",
     "iopub.status.busy": "2023-12-17T17:36:55.733535Z",
     "iopub.status.idle": "2023-12-17T17:36:55.911871Z",
     "shell.execute_reply": "2023-12-17T17:36:55.910995Z"
    },
    "papermill": {
     "duration": 0.198609,
     "end_time": "2023-12-17T17:36:55.914287",
     "exception": false,
     "start_time": "2023-12-17T17:36:55.715678",
     "status": "completed"
    },
    "tags": []
   },
   "outputs": [
    {
     "data": {
      "text/plain": [
       "0"
      ]
     },
     "execution_count": 39,
     "metadata": {},
     "output_type": "execute_result"
    }
   ],
   "source": [
    "gc.collect()"
   ]
  },
  {
   "cell_type": "markdown",
   "id": "79456949",
   "metadata": {
    "papermill": {
     "duration": 0.017719,
     "end_time": "2023-12-17T17:36:55.950094",
     "exception": false,
     "start_time": "2023-12-17T17:36:55.932375",
     "status": "completed"
    },
    "tags": []
   },
   "source": [
    "# Dataset Training  with K-Fold Cross validation  \n",
    "### detail reference :\n",
    "https://www.kaggle.com/code/sunghoshim/optiver-cross-validation-strategies#TimeSeriesSplit"
   ]
  },
  {
   "cell_type": "code",
   "execution_count": 40,
   "id": "292d068e",
   "metadata": {
    "execution": {
     "iopub.execute_input": "2023-12-17T17:36:55.987065Z",
     "iopub.status.busy": "2023-12-17T17:36:55.986478Z",
     "iopub.status.idle": "2023-12-17T17:36:55.991918Z",
     "shell.execute_reply": "2023-12-17T17:36:55.991072Z"
    },
    "papermill": {
     "duration": 0.026067,
     "end_time": "2023-12-17T17:36:55.993803",
     "exception": false,
     "start_time": "2023-12-17T17:36:55.967736",
     "status": "completed"
    },
    "scrolled": true,
    "tags": []
   },
   "outputs": [],
   "source": [
    "# %%time \n",
    "# if RUN_TRAINING:\n",
    "#     # split data \n",
    "#     split = df_full['date_id'] > SPLIT_DAY\n",
    "#     df_train = df_full[~split]\n",
    "#     df_valid = df_full[split]\n",
    "    \n",
    "#     df_train_features = build_features(df_train)\n",
    "#     df_valid_features = build_features(df_valid)\n",
    "\n",
    "#     scaler = StandardScaler()\n",
    "#     train_features = scaler.fit_transform(df_train_features)\n",
    "#     valid_features = scaler.transform(df_valid_features)\n",
    " \n",
    "#     train_dataset = windowed_dataset2(train_features)\n",
    "#     valid_dataset = windowed_dataset2(valid_features, shuffle=False)\n",
    " \n",
    "#     train_dataset = windowed_dataset(train_features)\n",
    "#     with strategy.scope(): # multiple GPU \n",
    "#         model = build_model5()\n",
    "\n",
    "#     early_stopping = EarlyStopping(monitor='val_loss',\n",
    "#                       mode='min',\n",
    "#                       patience=PATIENCE,\n",
    "#                       restore_best_weights=True,\n",
    "#                       verbose=True)\n",
    "\n",
    "#     history = model.fit(train_dataset,\n",
    "#                         validation_data=valid_dataset,\n",
    "# #                         validation_split=0.1,\n",
    "#                         epochs=EPOCHS,\n",
    "#                         batch_size=BATCH_SIZE,\n",
    "#                         callbacks=[early_stopping],\n",
    "#                         verbose=True)\n",
    "\n",
    "#     ## Evaluate ## \n",
    "#     y_pred = model.predict(valid_dataset)\n",
    "\n",
    "#     y_pred = scaler.inverse_transform(y_pred)\n",
    "#     y_true = df_valid_features[N_LAGS:]\n",
    "\n",
    "#     mae = mean_absolute_error(y_true, y_pred)\n",
    "#     print(f\"MAE score: {mae}\")\n",
    "\n",
    "#     ## Plots ##\n",
    "#     plt.plot(history.history['loss'])\n",
    "#     plt.plot(history.history['val_loss'])\n",
    "#     plt.title('model train vs validation loss')\n",
    "#     plt.ylabel('loss')\n",
    "#     plt.xlabel('epoch')\n",
    "#     plt.legend(['train', 'validation'], loc='upper right')\n",
    "#     plt.show()"
   ]
  },
  {
   "cell_type": "markdown",
   "id": "7848f5df",
   "metadata": {
    "papermill": {
     "duration": 0.01727,
     "end_time": "2023-12-17T17:36:56.028443",
     "exception": false,
     "start_time": "2023-12-17T17:36:56.011173",
     "status": "completed"
    },
    "tags": []
   },
   "source": [
    "# Full Dataset Training (No validation)"
   ]
  },
  {
   "cell_type": "code",
   "execution_count": 41,
   "id": "a81d3d07",
   "metadata": {
    "execution": {
     "iopub.execute_input": "2023-12-17T17:36:56.064696Z",
     "iopub.status.busy": "2023-12-17T17:36:56.064446Z",
     "iopub.status.idle": "2023-12-17T17:49:04.768593Z",
     "shell.execute_reply": "2023-12-17T17:49:04.767698Z"
    },
    "papermill": {
     "duration": 728.725612,
     "end_time": "2023-12-17T17:49:04.771626",
     "exception": false,
     "start_time": "2023-12-17T17:36:56.046014",
     "status": "completed"
    },
    "tags": []
   },
   "outputs": [
    {
     "name": "stderr",
     "output_type": "stream",
     "text": [
      "/opt/conda/lib/python3.10/site-packages/sklearn/utils/validation.py:767: FutureWarning: is_sparse is deprecated and will be removed in a future version. Check `isinstance(dtype, pd.SparseDtype)` instead.\n",
      "  if not hasattr(array, \"sparse\") and array.dtypes.apply(is_sparse).any():\n",
      "/opt/conda/lib/python3.10/site-packages/sklearn/utils/validation.py:605: FutureWarning: is_sparse is deprecated and will be removed in a future version. Check `isinstance(dtype, pd.SparseDtype)` instead.\n",
      "  if is_sparse(pd_dtype):\n",
      "/opt/conda/lib/python3.10/site-packages/sklearn/utils/validation.py:614: FutureWarning: is_sparse is deprecated and will be removed in a future version. Check `isinstance(dtype, pd.SparseDtype)` instead.\n",
      "  if is_sparse(pd_dtype) or not is_extension_array_dtype(pd_dtype):\n",
      "/opt/conda/lib/python3.10/site-packages/sklearn/utils/validation.py:767: FutureWarning: is_sparse is deprecated and will be removed in a future version. Check `isinstance(dtype, pd.SparseDtype)` instead.\n",
      "  if not hasattr(array, \"sparse\") and array.dtypes.apply(is_sparse).any():\n",
      "/opt/conda/lib/python3.10/site-packages/sklearn/utils/validation.py:605: FutureWarning: is_sparse is deprecated and will be removed in a future version. Check `isinstance(dtype, pd.SparseDtype)` instead.\n",
      "  if is_sparse(pd_dtype):\n",
      "/opt/conda/lib/python3.10/site-packages/sklearn/utils/validation.py:614: FutureWarning: is_sparse is deprecated and will be removed in a future version. Check `isinstance(dtype, pd.SparseDtype)` instead.\n",
      "  if is_sparse(pd_dtype) or not is_extension_array_dtype(pd_dtype):\n"
     ]
    },
    {
     "name": "stdout",
     "output_type": "stream",
     "text": [
      "Epoch 1/300\n",
      "827/827 [==============================] - 10s 6ms/step - loss: 0.7399\n",
      "Epoch 2/300\n",
      "827/827 [==============================] - 4s 5ms/step - loss: 0.7289\n",
      "Epoch 3/300\n",
      "827/827 [==============================] - 4s 5ms/step - loss: 0.7205\n",
      "Epoch 4/300\n",
      "827/827 [==============================] - 5s 6ms/step - loss: 0.7144\n",
      "Epoch 5/300\n",
      "827/827 [==============================] - 4s 5ms/step - loss: 0.7100\n",
      "Epoch 6/300\n",
      "827/827 [==============================] - 4s 5ms/step - loss: 0.7068\n",
      "Epoch 7/300\n",
      "827/827 [==============================] - 4s 5ms/step - loss: 0.7041\n",
      "Epoch 8/300\n",
      "827/827 [==============================] - 4s 5ms/step - loss: 0.7020\n",
      "Epoch 9/300\n",
      "827/827 [==============================] - 4s 5ms/step - loss: 0.7000\n",
      "Epoch 10/300\n",
      "827/827 [==============================] - 4s 5ms/step - loss: 0.6985\n",
      "Epoch 11/300\n",
      "827/827 [==============================] - 5s 6ms/step - loss: 0.6972\n",
      "Epoch 12/300\n",
      "827/827 [==============================] - 4s 5ms/step - loss: 0.6960\n",
      "Epoch 13/300\n",
      "827/827 [==============================] - 4s 5ms/step - loss: 0.6953\n",
      "Epoch 14/300\n",
      "827/827 [==============================] - 4s 5ms/step - loss: 0.6945\n",
      "Epoch 15/300\n",
      "827/827 [==============================] - 4s 5ms/step - loss: 0.6940\n",
      "Epoch 16/300\n",
      "827/827 [==============================] - 4s 5ms/step - loss: 0.6934\n",
      "Epoch 17/300\n",
      "827/827 [==============================] - 4s 5ms/step - loss: 0.6928\n",
      "Epoch 18/300\n",
      "827/827 [==============================] - 5s 6ms/step - loss: 0.6922\n",
      "Epoch 19/300\n",
      "827/827 [==============================] - 4s 5ms/step - loss: 0.6920\n",
      "Epoch 20/300\n",
      "827/827 [==============================] - 4s 5ms/step - loss: 0.6917\n",
      "Epoch 21/300\n",
      "827/827 [==============================] - 4s 5ms/step - loss: 0.6912\n",
      "Epoch 22/300\n",
      "827/827 [==============================] - 4s 5ms/step - loss: 0.6908\n",
      "Epoch 23/300\n",
      "827/827 [==============================] - 4s 5ms/step - loss: 0.6906\n",
      "Epoch 24/300\n",
      "827/827 [==============================] - 4s 5ms/step - loss: 0.6903\n",
      "Epoch 25/300\n",
      "827/827 [==============================] - 5s 6ms/step - loss: 0.6900\n",
      "Epoch 26/300\n",
      "827/827 [==============================] - 4s 5ms/step - loss: 0.6897\n",
      "Epoch 27/300\n",
      "827/827 [==============================] - 4s 5ms/step - loss: 0.6895\n",
      "Epoch 28/300\n",
      "827/827 [==============================] - 4s 5ms/step - loss: 0.6890\n",
      "Epoch 29/300\n",
      "827/827 [==============================] - 4s 5ms/step - loss: 0.6886\n",
      "Epoch 30/300\n",
      "827/827 [==============================] - 4s 5ms/step - loss: 0.6886\n",
      "Epoch 31/300\n",
      "827/827 [==============================] - 4s 5ms/step - loss: 0.6885\n",
      "Epoch 32/300\n",
      "827/827 [==============================] - 4s 5ms/step - loss: 0.6881\n",
      "Epoch 33/300\n",
      "827/827 [==============================] - 5s 5ms/step - loss: 0.6880\n",
      "Epoch 34/300\n",
      "827/827 [==============================] - 4s 5ms/step - loss: 0.6877\n",
      "Epoch 35/300\n",
      "827/827 [==============================] - 4s 5ms/step - loss: 0.6877\n",
      "Epoch 36/300\n",
      "827/827 [==============================] - 4s 5ms/step - loss: 0.6872\n",
      "Epoch 37/300\n",
      "827/827 [==============================] - 4s 5ms/step - loss: 0.6872\n",
      "Epoch 38/300\n",
      "827/827 [==============================] - 4s 5ms/step - loss: 0.6870\n",
      "Epoch 39/300\n",
      "827/827 [==============================] - 4s 5ms/step - loss: 0.6869\n",
      "Epoch 40/300\n",
      "827/827 [==============================] - 5s 6ms/step - loss: 0.6869\n",
      "Epoch 41/300\n",
      "827/827 [==============================] - 4s 5ms/step - loss: 0.6865\n",
      "Epoch 42/300\n",
      "827/827 [==============================] - 4s 5ms/step - loss: 0.6862\n",
      "Epoch 43/300\n",
      "827/827 [==============================] - 4s 5ms/step - loss: 0.6863\n",
      "Epoch 44/300\n",
      "827/827 [==============================] - 4s 5ms/step - loss: 0.6860\n",
      "Epoch 45/300\n",
      "827/827 [==============================] - 4s 5ms/step - loss: 0.6860\n",
      "Epoch 46/300\n",
      "827/827 [==============================] - 4s 5ms/step - loss: 0.6857\n",
      "Epoch 47/300\n",
      "827/827 [==============================] - 5s 6ms/step - loss: 0.6855\n",
      "Epoch 48/300\n",
      "827/827 [==============================] - 4s 5ms/step - loss: 0.6854\n",
      "Epoch 49/300\n",
      "827/827 [==============================] - 4s 5ms/step - loss: 0.6852\n",
      "Epoch 50/300\n",
      "827/827 [==============================] - 4s 5ms/step - loss: 0.6854\n",
      "Epoch 51/300\n",
      "827/827 [==============================] - 4s 5ms/step - loss: 0.6849\n",
      "Epoch 52/300\n",
      "827/827 [==============================] - 4s 5ms/step - loss: 0.6850\n",
      "Epoch 53/300\n",
      "827/827 [==============================] - 4s 5ms/step - loss: 0.6850\n",
      "Epoch 54/300\n",
      "827/827 [==============================] - 5s 6ms/step - loss: 0.6848\n",
      "Epoch 55/300\n",
      "827/827 [==============================] - 4s 5ms/step - loss: 0.6847\n",
      "Epoch 56/300\n",
      "827/827 [==============================] - 4s 5ms/step - loss: 0.6846\n",
      "Epoch 57/300\n",
      "827/827 [==============================] - 4s 5ms/step - loss: 0.6844\n",
      "Epoch 58/300\n",
      "827/827 [==============================] - 4s 5ms/step - loss: 0.6842\n",
      "Epoch 59/300\n",
      "827/827 [==============================] - 4s 5ms/step - loss: 0.6842\n",
      "Epoch 60/300\n",
      "827/827 [==============================] - 4s 5ms/step - loss: 0.6841\n",
      "Epoch 61/300\n",
      "827/827 [==============================] - 5s 5ms/step - loss: 0.6839\n",
      "Epoch 62/300\n",
      "827/827 [==============================] - 4s 5ms/step - loss: 0.6838\n",
      "Epoch 63/300\n",
      "827/827 [==============================] - 4s 5ms/step - loss: 0.6839\n",
      "Epoch 64/300\n",
      "827/827 [==============================] - 4s 5ms/step - loss: 0.6835\n",
      "Epoch 65/300\n",
      "827/827 [==============================] - 4s 5ms/step - loss: 0.6836\n",
      "Epoch 66/300\n",
      "827/827 [==============================] - 4s 5ms/step - loss: 0.6835\n",
      "Epoch 67/300\n",
      "827/827 [==============================] - 4s 5ms/step - loss: 0.6834\n",
      "Epoch 68/300\n",
      "827/827 [==============================] - 5s 6ms/step - loss: 0.6831\n",
      "Epoch 69/300\n",
      "827/827 [==============================] - 4s 5ms/step - loss: 0.6832\n",
      "Epoch 70/300\n",
      "827/827 [==============================] - 4s 5ms/step - loss: 0.6833\n",
      "Epoch 71/300\n",
      "827/827 [==============================] - 4s 5ms/step - loss: 0.6829\n",
      "Epoch 72/300\n",
      "827/827 [==============================] - 4s 5ms/step - loss: 0.6827\n",
      "Epoch 73/300\n",
      "827/827 [==============================] - 4s 5ms/step - loss: 0.6829\n",
      "Epoch 74/300\n",
      "827/827 [==============================] - 4s 5ms/step - loss: 0.6827\n",
      "Epoch 75/300\n",
      "827/827 [==============================] - 4s 5ms/step - loss: 0.6827\n",
      "Epoch 76/300\n",
      "827/827 [==============================] - 4s 5ms/step - loss: 0.6828\n",
      "Epoch 77/300\n",
      "827/827 [==============================] - 4s 5ms/step - loss: 0.6828\n",
      "Epoch 78/300\n",
      "827/827 [==============================] - 4s 5ms/step - loss: 0.6825\n",
      "Epoch 79/300\n",
      "827/827 [==============================] - 4s 5ms/step - loss: 0.6823\n",
      "Epoch 80/300\n",
      "827/827 [==============================] - 4s 5ms/step - loss: 0.6823\n",
      "Epoch 81/300\n",
      "827/827 [==============================] - 4s 5ms/step - loss: 0.6821\n",
      "Epoch 82/300\n",
      "827/827 [==============================] - 4s 5ms/step - loss: 0.6820\n",
      "Epoch 83/300\n",
      "827/827 [==============================] - 5s 6ms/step - loss: 0.6823\n",
      "Epoch 84/300\n",
      "827/827 [==============================] - 4s 5ms/step - loss: 0.6822\n",
      "Epoch 85/300\n",
      "827/827 [==============================] - 4s 5ms/step - loss: 0.6822\n",
      "Epoch 86/300\n",
      "827/827 [==============================] - 4s 5ms/step - loss: 0.6823\n",
      "Epoch 87/300\n",
      "827/827 [==============================] - 4s 5ms/step - loss: 0.6822\n",
      "Epoch 88/300\n",
      "827/827 [==============================] - 4s 5ms/step - loss: 0.6820\n",
      "Epoch 89/300\n",
      "827/827 [==============================] - 4s 5ms/step - loss: 0.6818\n",
      "Epoch 90/300\n",
      "827/827 [==============================] - 5s 6ms/step - loss: 0.6816\n",
      "Epoch 91/300\n",
      "827/827 [==============================] - 4s 5ms/step - loss: 0.6819\n",
      "Epoch 92/300\n",
      "827/827 [==============================] - 4s 5ms/step - loss: 0.6819\n",
      "Epoch 93/300\n",
      "827/827 [==============================] - 4s 5ms/step - loss: 0.6817\n",
      "Epoch 94/300\n",
      "827/827 [==============================] - 4s 5ms/step - loss: 0.6816\n",
      "Epoch 95/300\n",
      "827/827 [==============================] - 4s 5ms/step - loss: 0.6818\n",
      "Epoch 96/300\n",
      "827/827 [==============================] - 4s 5ms/step - loss: 0.6815\n",
      "Epoch 97/300\n",
      "827/827 [==============================] - 5s 5ms/step - loss: 0.6816\n",
      "Epoch 98/300\n",
      "827/827 [==============================] - 4s 5ms/step - loss: 0.6816\n",
      "Epoch 99/300\n",
      "827/827 [==============================] - 4s 5ms/step - loss: 0.6814\n",
      "Epoch 100/300\n",
      "827/827 [==============================] - 4s 5ms/step - loss: 0.6814\n",
      "Epoch 101/300\n",
      "827/827 [==============================] - 4s 5ms/step - loss: 0.6815\n",
      "Epoch 102/300\n",
      "827/827 [==============================] - 4s 5ms/step - loss: 0.6813\n",
      "Epoch 103/300\n",
      "827/827 [==============================] - 4s 5ms/step - loss: 0.6810\n",
      "Epoch 104/300\n",
      "827/827 [==============================] - 5s 6ms/step - loss: 0.6814\n",
      "Epoch 105/300\n",
      "827/827 [==============================] - 4s 5ms/step - loss: 0.6812\n",
      "Epoch 106/300\n",
      "827/827 [==============================] - 4s 5ms/step - loss: 0.6812\n",
      "Epoch 107/300\n",
      "827/827 [==============================] - 4s 5ms/step - loss: 0.6811\n",
      "Epoch 108/300\n",
      "827/827 [==============================] - 4s 5ms/step - loss: 0.6812\n",
      "Epoch 109/300\n",
      "827/827 [==============================] - 4s 5ms/step - loss: 0.6810\n",
      "Epoch 110/300\n",
      "827/827 [==============================] - 4s 5ms/step - loss: 0.6810\n",
      "Epoch 111/300\n",
      "827/827 [==============================] - 5s 5ms/step - loss: 0.6812\n",
      "Epoch 112/300\n",
      "827/827 [==============================] - 4s 5ms/step - loss: 0.6808\n",
      "Epoch 113/300\n",
      "827/827 [==============================] - 4s 5ms/step - loss: 0.6810\n",
      "Epoch 114/300\n",
      "827/827 [==============================] - 4s 5ms/step - loss: 0.6807\n",
      "Epoch 115/300\n",
      "827/827 [==============================] - 4s 5ms/step - loss: 0.6810\n",
      "Epoch 116/300\n",
      "827/827 [==============================] - 4s 5ms/step - loss: 0.6810\n",
      "Epoch 117/300\n",
      "827/827 [==============================] - 4s 5ms/step - loss: 0.6811\n",
      "Epoch 118/300\n",
      "827/827 [==============================] - 5s 6ms/step - loss: 0.6808\n",
      "Epoch 119/300\n",
      "827/827 [==============================] - 4s 5ms/step - loss: 0.6808\n",
      "Epoch 120/300\n",
      "827/827 [==============================] - 4s 5ms/step - loss: 0.6809\n",
      "Epoch 121/300\n",
      "827/827 [==============================] - 4s 5ms/step - loss: 0.6805\n",
      "Epoch 122/300\n",
      "827/827 [==============================] - 4s 5ms/step - loss: 0.6808\n",
      "Epoch 123/300\n",
      "827/827 [==============================] - 4s 5ms/step - loss: 0.6808\n",
      "Epoch 124/300\n",
      "827/827 [==============================] - 4s 5ms/step - loss: 0.6808\n",
      "Epoch 125/300\n",
      "827/827 [==============================] - 5s 6ms/step - loss: 0.6806\n",
      "Epoch 126/300\n",
      "827/827 [==============================] - 4s 5ms/step - loss: 0.6808\n",
      "Epoch 127/300\n",
      "827/827 [==============================] - 4s 5ms/step - loss: 0.6806\n",
      "Epoch 128/300\n",
      "827/827 [==============================] - 4s 5ms/step - loss: 0.6805\n",
      "Epoch 129/300\n",
      "827/827 [==============================] - 4s 5ms/step - loss: 0.6807\n",
      "Epoch 130/300\n",
      "827/827 [==============================] - 4s 5ms/step - loss: 0.6805\n",
      "Epoch 131/300\n",
      "827/827 [==============================] - 4s 5ms/step - loss: 0.6805\n",
      "Epoch 132/300\n",
      "827/827 [==============================] - 5s 6ms/step - loss: 0.6807\n",
      "Epoch 133/300\n",
      "827/827 [==============================] - 4s 5ms/step - loss: 0.6805\n",
      "Epoch 134/300\n",
      "827/827 [==============================] - 4s 5ms/step - loss: 0.6804\n",
      "Epoch 135/300\n",
      "827/827 [==============================] - 4s 5ms/step - loss: 0.6804\n",
      "Epoch 136/300\n",
      "827/827 [==============================] - 5s 6ms/step - loss: 0.6803\n",
      "Epoch 137/300\n",
      "827/827 [==============================] - 4s 5ms/step - loss: 0.6805\n",
      "Epoch 138/300\n",
      "827/827 [==============================] - 4s 5ms/step - loss: 0.6803\n",
      "Epoch 139/300\n",
      "827/827 [==============================] - 4s 5ms/step - loss: 0.6803\n",
      "Epoch 140/300\n",
      "827/827 [==============================] - 4s 5ms/step - loss: 0.6804\n",
      "Epoch 141/300\n",
      "827/827 [==============================] - 4s 5ms/step - loss: 0.6802\n",
      "Epoch 142/300\n",
      "827/827 [==============================] - 4s 5ms/step - loss: 0.6803\n",
      "Epoch 143/300\n",
      "827/827 [==============================] - 5s 6ms/step - loss: 0.6803\n",
      "Epoch 144/300\n",
      "827/827 [==============================] - 4s 5ms/step - loss: 0.6802\n",
      "Epoch 145/300\n",
      "827/827 [==============================] - 4s 5ms/step - loss: 0.6803\n",
      "Epoch 146/300\n",
      "827/827 [==============================] - 4s 5ms/step - loss: 0.6803\n",
      "Epoch 147/300\n",
      "827/827 [==============================] - 4s 5ms/step - loss: 0.6800\n",
      "Epoch 148/300\n",
      "827/827 [==============================] - 4s 5ms/step - loss: 0.6802\n",
      "Epoch 149/300\n",
      "827/827 [==============================] - 4s 5ms/step - loss: 0.6802\n",
      "Epoch 150/300\n",
      "827/827 [==============================] - 5s 6ms/step - loss: 0.6799\n",
      "Epoch 151/300\n",
      "827/827 [==============================] - 4s 5ms/step - loss: 0.6800\n",
      "Epoch 152/300\n",
      "827/827 [==============================] - 4s 5ms/step - loss: 0.6803\n",
      "Epoch 153/300\n",
      "827/827 [==============================] - 4s 5ms/step - loss: 0.6802\n",
      "Epoch 154/300\n",
      "827/827 [==============================] - 4s 5ms/step - loss: 0.6801\n",
      "Epoch 155/300\n",
      "827/827 [==============================] - 4s 5ms/step - loss: 0.6800\n",
      "Epoch 156/300\n",
      "827/827 [==============================] - 4s 5ms/step - loss: 0.6801\n",
      "Epoch 157/300\n",
      "827/827 [==============================] - 5s 6ms/step - loss: 0.6801\n",
      "Epoch 158/300\n",
      "827/827 [==============================] - 4s 5ms/step - loss: 0.6802\n",
      "Epoch 159/300\n",
      "827/827 [==============================] - 4s 5ms/step - loss: 0.6800\n",
      "Epoch 160/300\n",
      "827/827 [==============================] - ETA: 0s - loss: 0.6802Restoring model weights from the end of the best epoch: 150.\n",
      "827/827 [==============================] - 4s 5ms/step - loss: 0.6802\n",
      "Epoch 160: early stopping\n",
      "827/827 [==============================] - 4s 4ms/step\n",
      "MAE score: 5.907597541809082\n"
     ]
    },
    {
     "data": {
      "image/png": "[encoded data removed]",
      "text/plain": [
       "<Figure size 640x480 with 1 Axes>"
      ]
     },
     "metadata": {},
     "output_type": "display_data"
    },
    {
     "name": "stdout",
     "output_type": "stream",
     "text": [
      "CPU times: user 28min 31s, sys: 3min 52s, total: 32min 24s\n",
      "Wall time: 12min 8s\n"
     ]
    }
   ],
   "source": [
    "%%time \n",
    "if RUN_TRAINING:\n",
    "    df_full_features = build_features(df_full)\n",
    "\n",
    "    scaler = StandardScaler()\n",
    "    features = scaler.fit_transform(df_full_features)\n",
    " \n",
    "    dataset = windowed_dataset(features, N_LAGS, BATCH_SIZE)\n",
    "#     with strategy.scope(): # multiple GPU \n",
    "    model = build_model()\n",
    "\n",
    "    early_stopping = EarlyStopping(monitor='loss',\n",
    "                      mode='min',\n",
    "                      patience=PATIENCE,\n",
    "                      restore_best_weights=True,\n",
    "                      verbose=True)\n",
    "\n",
    "    history = model.fit(dataset,\n",
    "                        epochs=EPOCHS,\n",
    "                        batch_size=BATCH_SIZE,\n",
    "                        callbacks=[early_stopping],\n",
    "                        verbose=True)\n",
    "\n",
    "    ## Evaluate ## \n",
    "    y_pred = model.predict(dataset)\n",
    "\n",
    "    y_pred = scaler.inverse_transform(y_pred)\n",
    "    y_true = scaler.inverse_transform(features)\n",
    "\n",
    "    mae = mean_absolute_error(y_true[N_LAGS:], y_pred)\n",
    "    print(f\"MAE score: {mae}\")\n",
    "\n",
    "    ## Plots ##\n",
    "    plt.plot(history.history['loss'])\n",
    "    plt.title('model train loss')\n",
    "    plt.ylabel('loss')\n",
    "    plt.xlabel('epoch')\n",
    "    plt.legend(['train'], loc='upper right')\n",
    "    plt.show()"
   ]
  },
  {
   "cell_type": "code",
   "execution_count": null,
   "id": "ff6f9065",
   "metadata": {
    "papermill": {
     "duration": 1.11744,
     "end_time": "2023-12-17T17:49:07.060068",
     "exception": false,
     "start_time": "2023-12-17T17:49:05.942628",
     "status": "completed"
    },
    "tags": []
   },
   "outputs": [],
   "source": []
  },
  {
   "cell_type": "code",
   "execution_count": 42,
   "id": "75ea13b7",
   "metadata": {
    "execution": {
     "iopub.execute_input": "2023-12-17T17:49:09.337262Z",
     "iopub.status.busy": "2023-12-17T17:49:09.336910Z",
     "iopub.status.idle": "2023-12-17T17:49:09.559581Z",
     "shell.execute_reply": "2023-12-17T17:49:09.558641Z"
    },
    "papermill": {
     "duration": 1.338209,
     "end_time": "2023-12-17T17:49:09.561574",
     "exception": false,
     "start_time": "2023-12-17T17:49:08.223365",
     "status": "completed"
    },
    "tags": []
   },
   "outputs": [
    {
     "data": {
      "text/plain": [
       "7068"
      ]
     },
     "execution_count": 42,
     "metadata": {},
     "output_type": "execute_result"
    }
   ],
   "source": [
    "gc.collect()"
   ]
  },
  {
   "cell_type": "markdown",
   "id": "7353621b",
   "metadata": {
    "papermill": {
     "duration": 1.173108,
     "end_time": "2023-12-17T17:49:11.897544",
     "exception": false,
     "start_time": "2023-12-17T17:49:10.724436",
     "status": "completed"
    },
    "tags": []
   },
   "source": [
    "# Submission "
   ]
  },
  {
   "cell_type": "code",
   "execution_count": 43,
   "id": "e3825256",
   "metadata": {
    "execution": {
     "iopub.execute_input": "2023-12-17T17:49:14.221827Z",
     "iopub.status.busy": "2023-12-17T17:49:14.221456Z",
     "iopub.status.idle": "2023-12-17T17:49:24.815906Z",
     "shell.execute_reply": "2023-12-17T17:49:24.814725Z"
    },
    "papermill": {
     "duration": 11.781596,
     "end_time": "2023-12-17T17:49:24.818416",
     "exception": false,
     "start_time": "2023-12-17T17:49:13.036820",
     "status": "completed"
    },
    "tags": []
   },
   "outputs": [
    {
     "name": "stdout",
     "output_type": "stream",
     "text": [
      "This version of the API is not optimized and should not be used to estimate the runtime of your code on the hidden test set.\n"
     ]
    },
    {
     "name": "stderr",
     "output_type": "stream",
     "text": [
      "/opt/conda/lib/python3.10/site-packages/sklearn/utils/validation.py:767: FutureWarning: is_sparse is deprecated and will be removed in a future version. Check `isinstance(dtype, pd.SparseDtype)` instead.\n",
      "  if not hasattr(array, \"sparse\") and array.dtypes.apply(is_sparse).any():\n",
      "/opt/conda/lib/python3.10/site-packages/sklearn/utils/validation.py:605: FutureWarning: is_sparse is deprecated and will be removed in a future version. Check `isinstance(dtype, pd.SparseDtype)` instead.\n",
      "  if is_sparse(pd_dtype):\n",
      "/opt/conda/lib/python3.10/site-packages/sklearn/utils/validation.py:614: FutureWarning: is_sparse is deprecated and will be removed in a future version. Check `isinstance(dtype, pd.SparseDtype)` instead.\n",
      "  if is_sparse(pd_dtype) or not is_extension_array_dtype(pd_dtype):\n"
     ]
    },
    {
     "name": "stdout",
     "output_type": "stream",
     "text": [
      "1/1 [==============================] - 0s 355ms/step\n",
      "200\n",
      "1/1 [==============================] - 0s 19ms/step\n",
      "200\n",
      "1/1 [==============================] - 0s 18ms/step\n",
      "200\n",
      "1/1 [==============================] - 0s 19ms/step\n",
      "200\n",
      "1/1 [==============================] - 0s 18ms/step\n",
      "200\n",
      "1/1 [==============================] - 0s 18ms/step\n",
      "200\n",
      "1/1 [==============================] - 0s 19ms/step\n",
      "200\n",
      "1/1 [==============================] - 0s 19ms/step\n",
      "200\n",
      "1/1 [==============================] - 0s 19ms/step\n",
      "200\n",
      "1/1 [==============================] - 0s 19ms/step\n",
      "200\n",
      "1/1 [==============================] - 0s 18ms/step\n",
      "200\n",
      "1/1 [==============================] - 0s 19ms/step\n",
      "200\n",
      "1/1 [==============================] - 0s 18ms/step\n",
      "200\n",
      "1/1 [==============================] - 0s 19ms/step\n",
      "200\n",
      "1/1 [==============================] - 0s 19ms/step\n",
      "200\n",
      "1/1 [==============================] - 0s 19ms/step\n",
      "200\n",
      "1/1 [==============================] - 0s 18ms/step\n",
      "200\n",
      "1/1 [==============================] - 0s 18ms/step\n",
      "200\n",
      "1/1 [==============================] - 0s 19ms/step\n",
      "200\n",
      "1/1 [==============================] - 0s 19ms/step\n",
      "200\n",
      "1/1 [==============================] - 0s 19ms/step\n",
      "200\n",
      "1/1 [==============================] - 0s 19ms/step\n",
      "200\n",
      "1/1 [==============================] - 0s 19ms/step\n",
      "200\n",
      "1/1 [==============================] - 0s 21ms/step\n",
      "200\n",
      "1/1 [==============================] - 0s 19ms/step\n",
      "200\n",
      "1/1 [==============================] - 0s 19ms/step\n",
      "200\n",
      "1/1 [==============================] - 0s 20ms/step\n",
      "200\n",
      "1/1 [==============================] - 0s 19ms/step\n",
      "200\n",
      "1/1 [==============================] - 0s 19ms/step\n",
      "200\n",
      "1/1 [==============================] - 0s 19ms/step\n",
      "200\n",
      "1/1 [==============================] - 0s 19ms/step\n",
      "200\n",
      "1/1 [==============================] - 0s 19ms/step\n",
      "200\n",
      "1/1 [==============================] - 0s 19ms/step\n",
      "200\n",
      "1/1 [==============================] - 0s 20ms/step\n",
      "200\n",
      "1/1 [==============================] - 0s 18ms/step\n",
      "200\n",
      "1/1 [==============================] - 0s 19ms/step\n",
      "200\n",
      "1/1 [==============================] - 0s 19ms/step\n",
      "200\n",
      "1/1 [==============================] - 0s 19ms/step\n",
      "200\n",
      "1/1 [==============================] - 0s 19ms/step\n",
      "200\n",
      "1/1 [==============================] - 0s 18ms/step\n",
      "200\n",
      "1/1 [==============================] - 0s 18ms/step\n",
      "200\n",
      "1/1 [==============================] - 0s 19ms/step\n",
      "200\n",
      "1/1 [==============================] - 0s 19ms/step\n",
      "200\n",
      "1/1 [==============================] - 0s 20ms/step\n",
      "200\n",
      "1/1 [==============================] - 0s 19ms/step\n",
      "200\n",
      "1/1 [==============================] - 0s 18ms/step\n",
      "200\n",
      "1/1 [==============================] - 0s 18ms/step\n",
      "200\n",
      "1/1 [==============================] - 0s 21ms/step\n",
      "200\n",
      "1/1 [==============================] - 0s 19ms/step\n",
      "200\n",
      "1/1 [==============================] - 0s 18ms/step\n",
      "200\n",
      "1/1 [==============================] - 0s 18ms/step\n",
      "200\n",
      "1/1 [==============================] - 0s 19ms/step\n",
      "200\n",
      "1/1 [==============================] - 0s 19ms/step\n",
      "200\n",
      "1/1 [==============================] - 0s 19ms/step\n",
      "200\n",
      "1/1 [==============================] - 0s 19ms/step\n",
      "200\n",
      "1/1 [==============================] - 0s 19ms/step\n",
      "200\n",
      "1/1 [==============================] - 0s 18ms/step\n",
      "200\n",
      "1/1 [==============================] - 0s 18ms/step\n"
     ]
    },
    {
     "name": "stderr",
     "output_type": "stream",
     "text": [
      "/opt/conda/lib/python3.10/site-packages/sklearn/utils/validation.py:767: FutureWarning: is_sparse is deprecated and will be removed in a future version. Check `isinstance(dtype, pd.SparseDtype)` instead.\n",
      "  if not hasattr(array, \"sparse\") and array.dtypes.apply(is_sparse).any():\n",
      "/opt/conda/lib/python3.10/site-packages/sklearn/utils/validation.py:605: FutureWarning: is_sparse is deprecated and will be removed in a future version. Check `isinstance(dtype, pd.SparseDtype)` instead.\n",
      "  if is_sparse(pd_dtype):\n",
      "/opt/conda/lib/python3.10/site-packages/sklearn/utils/validation.py:614: FutureWarning: is_sparse is deprecated and will be removed in a future version. Check `isinstance(dtype, pd.SparseDtype)` instead.\n",
      "  if is_sparse(pd_dtype) or not is_extension_array_dtype(pd_dtype):\n"
     ]
    },
    {
     "name": "stdout",
     "output_type": "stream",
     "text": [
      "200\n",
      "1/1 [==============================] - 0s 18ms/step\n",
      "200\n",
      "1/1 [==============================] - 0s 19ms/step\n",
      "200\n",
      "1/1 [==============================] - 0s 18ms/step\n",
      "200\n",
      "1/1 [==============================] - 0s 18ms/step\n",
      "200\n",
      "1/1 [==============================] - 0s 18ms/step\n",
      "200\n",
      "1/1 [==============================] - 0s 19ms/step\n",
      "200\n",
      "1/1 [==============================] - 0s 19ms/step\n",
      "200\n",
      "1/1 [==============================] - 0s 19ms/step\n",
      "200\n",
      "1/1 [==============================] - 0s 19ms/step\n",
      "200\n",
      "1/1 [==============================] - 0s 19ms/step\n",
      "200\n",
      "1/1 [==============================] - 0s 19ms/step\n",
      "200\n",
      "1/1 [==============================] - 0s 18ms/step\n",
      "200\n",
      "1/1 [==============================] - 0s 18ms/step\n",
      "200\n",
      "1/1 [==============================] - 0s 19ms/step\n",
      "200\n",
      "1/1 [==============================] - 0s 18ms/step\n",
      "200\n",
      "1/1 [==============================] - 0s 18ms/step\n",
      "200\n",
      "1/1 [==============================] - 0s 19ms/step\n",
      "200\n",
      "1/1 [==============================] - 0s 19ms/step\n",
      "200\n",
      "1/1 [==============================] - 0s 19ms/step\n",
      "200\n",
      "1/1 [==============================] - 0s 19ms/step\n",
      "200\n",
      "1/1 [==============================] - 0s 19ms/step\n",
      "200\n",
      "1/1 [==============================] - 0s 18ms/step\n",
      "200\n",
      "1/1 [==============================] - 0s 18ms/step\n",
      "200\n",
      "1/1 [==============================] - 0s 18ms/step\n",
      "200\n",
      "1/1 [==============================] - 0s 19ms/step\n",
      "200\n",
      "1/1 [==============================] - 0s 18ms/step\n",
      "200\n",
      "1/1 [==============================] - 0s 19ms/step\n",
      "200\n",
      "1/1 [==============================] - 0s 19ms/step\n",
      "200\n",
      "1/1 [==============================] - 0s 18ms/step\n",
      "200\n",
      "1/1 [==============================] - 0s 20ms/step\n",
      "200\n",
      "1/1 [==============================] - 0s 19ms/step\n",
      "200\n",
      "1/1 [==============================] - 0s 19ms/step\n",
      "200\n",
      "1/1 [==============================] - 0s 21ms/step\n",
      "200\n",
      "1/1 [==============================] - 0s 20ms/step\n",
      "200\n",
      "1/1 [==============================] - 0s 19ms/step\n",
      "200\n",
      "1/1 [==============================] - 0s 19ms/step\n",
      "200\n",
      "1/1 [==============================] - 0s 20ms/step\n",
      "200\n",
      "1/1 [==============================] - 0s 21ms/step\n",
      "200\n",
      "1/1 [==============================] - 0s 20ms/step\n",
      "200\n",
      "1/1 [==============================] - 0s 20ms/step\n",
      "200\n",
      "1/1 [==============================] - 0s 21ms/step\n",
      "200\n",
      "1/1 [==============================] - 0s 19ms/step\n",
      "200\n",
      "1/1 [==============================] - 0s 20ms/step\n",
      "200\n",
      "1/1 [==============================] - 0s 19ms/step\n",
      "200\n",
      "1/1 [==============================] - 0s 18ms/step\n",
      "200\n",
      "1/1 [==============================] - 0s 18ms/step\n",
      "200\n",
      "1/1 [==============================] - 0s 19ms/step\n",
      "200\n",
      "1/1 [==============================] - 0s 20ms/step\n",
      "200\n",
      "1/1 [==============================] - 0s 19ms/step\n",
      "200\n",
      "1/1 [==============================] - 0s 20ms/step\n",
      "200\n",
      "1/1 [==============================] - 0s 19ms/step\n",
      "200\n",
      "1/1 [==============================] - 0s 19ms/step\n",
      "200\n",
      "1/1 [==============================] - 0s 20ms/step\n",
      "200\n",
      "1/1 [==============================] - 0s 19ms/step\n",
      "200\n",
      "1/1 [==============================] - 0s 18ms/step\n"
     ]
    },
    {
     "name": "stderr",
     "output_type": "stream",
     "text": [
      "/opt/conda/lib/python3.10/site-packages/sklearn/utils/validation.py:767: FutureWarning: is_sparse is deprecated and will be removed in a future version. Check `isinstance(dtype, pd.SparseDtype)` instead.\n",
      "  if not hasattr(array, \"sparse\") and array.dtypes.apply(is_sparse).any():\n",
      "/opt/conda/lib/python3.10/site-packages/sklearn/utils/validation.py:605: FutureWarning: is_sparse is deprecated and will be removed in a future version. Check `isinstance(dtype, pd.SparseDtype)` instead.\n",
      "  if is_sparse(pd_dtype):\n",
      "/opt/conda/lib/python3.10/site-packages/sklearn/utils/validation.py:614: FutureWarning: is_sparse is deprecated and will be removed in a future version. Check `isinstance(dtype, pd.SparseDtype)` instead.\n",
      "  if is_sparse(pd_dtype) or not is_extension_array_dtype(pd_dtype):\n"
     ]
    },
    {
     "name": "stdout",
     "output_type": "stream",
     "text": [
      "200\n",
      "1/1 [==============================] - 0s 19ms/step\n",
      "200\n",
      "1/1 [==============================] - 0s 19ms/step\n",
      "200\n",
      "1/1 [==============================] - 0s 19ms/step\n",
      "200\n",
      "1/1 [==============================] - 0s 18ms/step\n",
      "200\n",
      "1/1 [==============================] - 0s 18ms/step\n",
      "200\n",
      "1/1 [==============================] - 0s 18ms/step\n",
      "200\n",
      "1/1 [==============================] - 0s 18ms/step\n",
      "200\n",
      "1/1 [==============================] - 0s 18ms/step\n",
      "200\n",
      "1/1 [==============================] - 0s 18ms/step\n",
      "200\n",
      "1/1 [==============================] - 0s 18ms/step\n",
      "200\n",
      "1/1 [==============================] - 0s 18ms/step\n",
      "200\n",
      "1/1 [==============================] - 0s 24ms/step\n",
      "200\n",
      "1/1 [==============================] - 0s 18ms/step\n",
      "200\n",
      "1/1 [==============================] - 0s 20ms/step\n",
      "200\n",
      "1/1 [==============================] - 0s 19ms/step\n",
      "200\n",
      "1/1 [==============================] - 0s 20ms/step\n",
      "200\n",
      "1/1 [==============================] - 0s 19ms/step\n",
      "200\n",
      "1/1 [==============================] - 0s 19ms/step\n",
      "200\n",
      "1/1 [==============================] - 0s 19ms/step\n",
      "200\n",
      "1/1 [==============================] - 0s 19ms/step\n",
      "200\n",
      "1/1 [==============================] - 0s 19ms/step\n",
      "200\n",
      "1/1 [==============================] - 0s 19ms/step\n",
      "200\n",
      "1/1 [==============================] - 0s 19ms/step\n",
      "200\n",
      "1/1 [==============================] - 0s 19ms/step\n",
      "200\n",
      "1/1 [==============================] - 0s 19ms/step\n",
      "200\n",
      "1/1 [==============================] - 0s 19ms/step\n",
      "200\n",
      "1/1 [==============================] - 0s 20ms/step\n",
      "200\n",
      "1/1 [==============================] - 0s 19ms/step\n",
      "200\n",
      "1/1 [==============================] - 0s 20ms/step\n",
      "200\n",
      "1/1 [==============================] - 0s 19ms/step\n",
      "200\n",
      "1/1 [==============================] - 0s 19ms/step\n",
      "200\n",
      "1/1 [==============================] - 0s 19ms/step\n",
      "200\n",
      "1/1 [==============================] - 0s 19ms/step\n",
      "200\n",
      "1/1 [==============================] - 0s 20ms/step\n",
      "200\n",
      "1/1 [==============================] - 0s 19ms/step\n",
      "200\n",
      "1/1 [==============================] - 0s 20ms/step\n",
      "200\n",
      "1/1 [==============================] - 0s 19ms/step\n",
      "200\n",
      "1/1 [==============================] - 0s 20ms/step\n",
      "200\n",
      "1/1 [==============================] - 0s 20ms/step\n",
      "200\n",
      "1/1 [==============================] - 0s 20ms/step\n",
      "200\n",
      "1/1 [==============================] - 0s 19ms/step\n",
      "200\n",
      "1/1 [==============================] - 0s 20ms/step\n",
      "200\n",
      "1/1 [==============================] - 0s 20ms/step\n",
      "200\n",
      "1/1 [==============================] - 0s 20ms/step\n",
      "200\n",
      "1/1 [==============================] - 0s 19ms/step\n",
      "200\n",
      "1/1 [==============================] - 0s 20ms/step\n",
      "200\n",
      "1/1 [==============================] - 0s 19ms/step\n",
      "200\n",
      "1/1 [==============================] - 0s 19ms/step\n",
      "200\n",
      "1/1 [==============================] - 0s 21ms/step\n",
      "200\n",
      "1/1 [==============================] - 0s 21ms/step\n",
      "200\n",
      "1/1 [==============================] - 0s 24ms/step\n",
      "200\n",
      "1/1 [==============================] - 0s 23ms/step\n",
      "200\n"
     ]
    }
   ],
   "source": [
    "if RUN_FOR_SUBMISSION:\n",
    "    \n",
    "    import optiver2023\n",
    "    optiver2023.make_env.func_dict['__called__'] = False\n",
    "    env = optiver2023.make_env()\n",
    "    iter_test = env.iter_test()\n",
    "    \n",
    "    counter = 0\n",
    "    \n",
    "    for i, (test, revealed_targets, sample_prediction) in enumerate(iter_test): # reveal 3 test file \n",
    "        \n",
    "#         if test.currently_scored.iloc[0]== False:  # for initial for \n",
    "#             sample_prediction['target'] = 0 # set sample prediction target value to 0\n",
    "#             env.predict(sample_prediction)\n",
    "#             counter += 1\n",
    "#             continue        \n",
    "#         if test.currently_scored.iloc[0]:\n",
    "#             print(123)\n",
    "        if test.seconds_in_bucket.unique()[0] == 0:\n",
    "            # select used column\n",
    "            df_revealed_targets = revealed_targets[[\"stock_id\", \"revealed_date_id\", \"seconds_in_bucket\", \"revealed_target\"]]\n",
    "            df_revealed_targets = df_revealed_targets.rename(columns={'revealed_date_id': 'date_id', 'revealed_target': 'target'})\n",
    "\n",
    "            df_features = build_features(df_revealed_targets)  #build feature \n",
    "\n",
    "            history_scaled = scaler.transform(df_features) # scale the featrure \n",
    "        \n",
    "        # predict the target value\n",
    "#         print(123)\n",
    "        y_pred_scaled = model.predict(\n",
    "            history_scaled[-N_LAGS:][np.newaxis, :, :],\n",
    "            verbose=True)\n",
    "        \n",
    "        y_pred = scaler.inverse_transform(y_pred_scaled)\n",
    "        print(len(sample_prediction['target']))\n",
    "        sample_prediction['target'] = y_pred[0][:len(sample_prediction['target'])].astype('float64')\n",
    "        env.predict(sample_prediction)\n",
    "        counter += 1\n",
    "        \n",
    "        history_scaled = np.concatenate([history_scaled, y_pred_scaled])\n",
    "\n",
    "else:\n",
    "    print(\"Run for submission skipped\")"
   ]
  },
  {
   "cell_type": "code",
   "execution_count": 44,
   "id": "bffc6b23",
   "metadata": {
    "execution": {
     "iopub.execute_input": "2023-12-17T17:49:27.211939Z",
     "iopub.status.busy": "2023-12-17T17:49:27.211556Z",
     "iopub.status.idle": "2023-12-17T17:49:27.215734Z",
     "shell.execute_reply": "2023-12-17T17:49:27.214824Z"
    },
    "papermill": {
     "duration": 1.228956,
     "end_time": "2023-12-17T17:49:27.217952",
     "exception": false,
     "start_time": "2023-12-17T17:49:25.988996",
     "status": "completed"
    },
    "tags": []
   },
   "outputs": [],
   "source": [
    "# gc.collect()"
   ]
  },
  {
   "cell_type": "code",
   "execution_count": 45,
   "id": "6468b7ed",
   "metadata": {
    "execution": {
     "iopub.execute_input": "2023-12-17T17:49:29.597417Z",
     "iopub.status.busy": "2023-12-17T17:49:29.597025Z",
     "iopub.status.idle": "2023-12-17T17:49:29.601094Z",
     "shell.execute_reply": "2023-12-17T17:49:29.600245Z"
    },
    "papermill": {
     "duration": 1.215746,
     "end_time": "2023-12-17T17:49:29.602916",
     "exception": false,
     "start_time": "2023-12-17T17:49:28.387170",
     "status": "completed"
    },
    "tags": []
   },
   "outputs": [],
   "source": [
    "# test.currently_scored.iloc[0]"
   ]
  },
  {
   "cell_type": "code",
   "execution_count": null,
   "id": "43c55f69",
   "metadata": {
    "papermill": {
     "duration": 1.206598,
     "end_time": "2023-12-17T17:49:31.961035",
     "exception": false,
     "start_time": "2023-12-17T17:49:30.754437",
     "status": "completed"
    },
    "tags": []
   },
   "outputs": [],
   "source": []
  }
 ],
 "metadata": {
  "kaggle": {
   "accelerator": "nvidiaTeslaT4",
   "dataSources": [
    {
     "databundleVersionId": 7056235,
     "sourceId": 57891,
     "sourceType": "competition"
    }
   ],
   "dockerImageVersionId": 30588,
   "isGpuEnabled": true,
   "isInternetEnabled": false,
   "language": "python",
   "sourceType": "notebook"
  },
  "kernelspec": {
   "display_name": "Python 3",
   "language": "python",
   "name": "python3"
  },
  "language_info": {
   "codemirror_mode": {
    "name": "ipython",
    "version": 3
   },
   "file_extension": ".py",
   "mimetype": "text/x-python",
   "name": "python",
   "nbconvert_exporter": "python",
   "pygments_lexer": "ipython3",
   "version": "3.10.12"
  },
  "papermill": {
   "default_parameters": {},
   "duration": 800.372647,
   "end_time": "2023-12-17T17:49:36.207458",
   "environment_variables": {},
   "exception": null,
   "input_path": "__notebook__.ipynb",
   "output_path": "__notebook__.ipynb",
   "parameters": {},
   "start_time": "2023-12-17T17:36:15.834811",
   "version": "2.4.0"
  }
 },
 "nbformat": 4,
 "nbformat_minor": 5
}
